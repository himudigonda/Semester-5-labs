{
 "cells": [
  {
   "cell_type": "code",
   "execution_count": 1,
   "id": "f68d707f",
   "metadata": {},
   "outputs": [
    {
     "name": "stdout",
     "output_type": "stream",
     "text": [
      "hello world\n"
     ]
    }
   ],
   "source": [
    "%%bash\n",
    "echo \"hello world\""
   ]
  },
  {
   "cell_type": "code",
   "execution_count": 3,
   "id": "2d3f6ffa",
   "metadata": {},
   "outputs": [
    {
     "ename": "SyntaxError",
     "evalue": "invalid syntax (<ipython-input-3-3d8763c17bc0>, line 2)",
     "output_type": "error",
     "traceback": [
      "\u001b[0;36m  File \u001b[0;32m\"<ipython-input-3-3d8763c17bc0>\"\u001b[0;36m, line \u001b[0;32m2\u001b[0m\n\u001b[0;31m    echo \"Enter the three numbers : \"\u001b[0m\n\u001b[0m         ^\u001b[0m\n\u001b[0;31mSyntaxError\u001b[0m\u001b[0;31m:\u001b[0m invalid syntax\n"
     ]
    }
   ],
   "source": [
    "! Question 1\n",
    "echo \"Enter the three numbers : \" \n",
    "read number1 number2 number3\n",
    "\n",
    "if [[ $number1 -ge $number2 && $number1 -ge $number3 ]]; then\n",
    "    echo \"$number1 is the greatest number\"\n",
    "fi\n",
    "\n",
    "if [[ $number2 -ge $number3 && $number2 -ge $number1 ]]; then\n",
    "    echo \"$number2 is the greatest\"\n",
    "fi\n",
    "\n",
    "if [[ $number3 -ge $number1 && $number3 -ge $number2 ]]; then\n",
    "    echo \"$number3 is the greatest\"\n",
    "fi"
   ]
  },
  {
   "cell_type": "code",
   "execution_count": null,
   "id": "2a649461",
   "metadata": {},
   "outputs": [],
   "source": []
  }
 ],
 "metadata": {
  "kernelspec": {
   "display_name": "Python 3",
   "language": "python",
   "name": "python3"
  },
  "language_info": {
   "codemirror_mode": {
    "name": "ipython",
    "version": 3
   },
   "file_extension": ".py",
   "mimetype": "text/x-python",
   "name": "python",
   "nbconvert_exporter": "python",
   "pygments_lexer": "ipython3",
   "version": "3.9.6"
  }
 },
 "nbformat": 4,
 "nbformat_minor": 5
}
