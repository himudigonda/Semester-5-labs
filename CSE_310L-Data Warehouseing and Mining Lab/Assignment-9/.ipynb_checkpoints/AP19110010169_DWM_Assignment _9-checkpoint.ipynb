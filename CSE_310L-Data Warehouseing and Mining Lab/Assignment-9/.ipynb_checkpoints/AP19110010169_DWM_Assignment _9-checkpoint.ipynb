{
 "cells": [
  {
   "cell_type": "markdown",
   "id": "433ff65f",
   "metadata": {},
   "source": [
    "# Assignment 9\n",
    "\n",
    "### @author: @ruhend (Mudigonda Himansh)\n",
    "### AP19110010169"
   ]
  },
  {
   "cell_type": "markdown",
   "id": "ed6fcf3f",
   "metadata": {},
   "source": [
    "### K-Mean algorithm\n",
    " K-Mean algorithm is an unsupervised algorithm that solved the clustering problem. Data points inside a cluster are homogeneous and outside the cluster are heterogeneous."
   ]
  },
  {
   "cell_type": "markdown",
   "id": "09c8dac1",
   "metadata": {},
   "source": [
    "### Determining the value of 'K'"
   ]
  },
  {
   "cell_type": "markdown",
   "id": "53b5a44a",
   "metadata": {},
   "source": [
    "In k-means, we ahve clusters and each cluster has its own centeroid.\n",
    "Sum of square of difference between centroid and the data points within a cluster constitutes within sum of square value for that cluster.\n",
    "\n",
    "And also, when the sum of square values for all clusters are added, it becomes total within sum of square value for the cluster solution."
   ]
  },
  {
   "cell_type": "markdown",
   "id": "732845dd",
   "metadata": {},
   "source": [
    "The optimum number for k is taken when the chang in slope of the value doesnt change much with increase in the number of clusters."
   ]
  },
  {
   "cell_type": "code",
   "execution_count": 1,
   "id": "ea4da713",
   "metadata": {},
   "outputs": [],
   "source": [
    "import pandas as pd\n",
    "from sklearn.cluster import KMeans"
   ]
  },
  {
   "cell_type": "code",
   "execution_count": 2,
   "id": "7b52b236",
   "metadata": {},
   "outputs": [],
   "source": [
    "train_data = pd.read_csv('train-data.csv')\n",
    "test_data = pd.read_csv('test-data.csv')"
   ]
  },
  {
   "cell_type": "code",
   "execution_count": 3,
   "id": "ace6d25f",
   "metadata": {},
   "outputs": [
    {
     "name": "stdout",
     "output_type": "stream",
     "text": [
      "Head of the training dataset  :     Age  Annual Income (k$)  Spending Score (1-100)  Genre_Female  Genre_Male\n",
      "0   30                  34                      73             1           0\n",
      "1   36                 103                      85             1           0\n",
      "2   54                 101                      24             1           0\n",
      "3   28                 101                      68             0           1\n",
      "4   24                  39                      65             1           0\n",
      "Head of the testing dataset   :     Age  Annual Income (k$)  Spending Score (1-100)  Genre_Female  Genre_Male\n",
      "0   53                  46                      46             0           1\n",
      "1   22                  17                      76             1           0\n",
      "2   35                  24                      35             0           1\n",
      "3   32                 137                      18             0           1\n",
      "4   31                  43                      54             1           0\n"
     ]
    }
   ],
   "source": [
    "print('Head of the training dataset  : ', train_data.head())\n",
    "print('Head of the testing dataset   : ', test_data.head())"
   ]
  },
  {
   "cell_type": "code",
   "execution_count": 4,
   "id": "69bcb6e0",
   "metadata": {},
   "outputs": [
    {
     "name": "stdout",
     "output_type": "stream",
     "text": [
      "Shape of the training dataset  :  (100, 5)\n",
      "Shape of the testing dataset   :  (100, 5)\n"
     ]
    }
   ],
   "source": [
    "print('Shape of the training dataset  : ', train_data.shape)\n",
    "print('Shape of the testing dataset   : ', test_data.shape)"
   ]
  },
  {
   "cell_type": "code",
   "execution_count": 5,
   "id": "c74d9e67",
   "metadata": {},
   "outputs": [
    {
     "data": {
      "text/plain": [
       "KMeans()"
      ]
     },
     "execution_count": 5,
     "metadata": {},
     "output_type": "execute_result"
    }
   ],
   "source": [
    "model = KMeans()\n",
    "model.fit(train_data)"
   ]
  },
  {
   "cell_type": "code",
   "execution_count": 6,
   "id": "262bc29e",
   "metadata": {},
   "outputs": [
    {
     "name": "stdout",
     "output_type": "stream",
     "text": [
      "Default number of clusters      :  8\n"
     ]
    }
   ],
   "source": [
    "print('Default number of clusters      : ', model.n_clusters)"
   ]
  },
  {
   "cell_type": "code",
   "execution_count": 7,
   "id": "80585c04",
   "metadata": {},
   "outputs": [
    {
     "name": "stdout",
     "output_type": "stream",
     "text": [
      "Cluster on train data           :  [4 0 3 0 4 7 7 0 0 2 5 5 1 3 0 5 3 6 7 4 6 1 1 3 6 3 5 5 3 1 6 1 1 3 3 5 2\n",
      " 5 2 1 3 2 5 5 3 1 1 3 0 5 1 3 7 5 3 5 7 2 4 6 1 4 7 3 1 3 6 1 1 5 7 5 4 7\n",
      " 0 0 4 1 7 1 7 1 5 7 2 7 3 1 2 1 6 0 5 3 5 7 1 4 5 4]\n"
     ]
    }
   ],
   "source": [
    "predict_train = model.predict(train_data)\n",
    "print('Cluster on train data           : ', predict_train)"
   ]
  },
  {
   "cell_type": "code",
   "execution_count": 8,
   "id": "2a3a15c3",
   "metadata": {},
   "outputs": [
    {
     "data": {
      "text/plain": [
       "KMeans(n_clusters=3)"
      ]
     },
     "execution_count": 8,
     "metadata": {},
     "output_type": "execute_result"
    }
   ],
   "source": [
    "model_n3 = KMeans(n_clusters = 3)\n",
    "model_n3.fit(train_data)"
   ]
  },
  {
   "cell_type": "code",
   "execution_count": 9,
   "id": "32260fcb",
   "metadata": {},
   "outputs": [
    {
     "name": "stdout",
     "output_type": "stream",
     "text": [
      "Number of Cluster                :  3\n"
     ]
    }
   ],
   "source": [
    "print('Number of Cluster                : ', model_n3.n_clusters)"
   ]
  },
  {
   "cell_type": "code",
   "execution_count": 10,
   "id": "69a4d6a5",
   "metadata": {},
   "outputs": [
    {
     "name": "stdout",
     "output_type": "stream",
     "text": [
      "Clusters in the training dataset :  [0 2 1 2 0 1 0 2 2 0 2 2 0 1 2 2 1 0 0 0 0 0 0 1 0 1 2 2 1 0 0 0 0 1 1 2 0\n",
      " 2 0 0 1 0 2 2 1 0 0 1 2 2 0 1 0 2 1 2 0 0 0 0 0 0 0 1 0 1 0 0 0 2 1 2 0 0\n",
      " 2 2 2 0 2 0 0 0 2 0 0 0 1 0 0 0 0 2 2 1 2 0 0 0 2 0]\n"
     ]
    }
   ],
   "source": [
    "predict_train_3 = model_n3.predict(train_data)\n",
    "print('Clusters in the training dataset : ', predict_train_3)"
   ]
  },
  {
   "cell_type": "code",
   "execution_count": 11,
   "id": "600e8105",
   "metadata": {},
   "outputs": [
    {
     "name": "stdout",
     "output_type": "stream",
     "text": [
      "Clusters in the testing dataset  :  [0 0 0 1 0 0 1 0 0 0 0 0 0 1 1 0 0 0 0 2 1 1 0 0 0 0 1 0 0 1 2 0 0 0 0 1 2\n",
      " 2 0 1 1 0 0 1 0 0 0 2 0 0 0 0 0 2 0 0 2 0 0 0 0 0 0 2 2 0 2 0 0 0 2 0 1 2\n",
      " 0 1 0 1 0 2 0 0 0 1 0 0 0 0 0 1 0 0 0 0 1 0 0 0 2 1]\n"
     ]
    }
   ],
   "source": [
    "predict_test_3 = model_n3.predict(test_data)\n",
    "print('Clusters in the testing dataset  : ', predict_test_3)"
   ]
  }
 ],
 "metadata": {
  "kernelspec": {
   "display_name": "Python 3",
   "language": "python",
   "name": "python3"
  },
  "language_info": {
   "codemirror_mode": {
    "name": "ipython",
    "version": 3
   },
   "file_extension": ".py",
   "mimetype": "text/x-python",
   "name": "python",
   "nbconvert_exporter": "python",
   "pygments_lexer": "ipython3",
   "version": "3.8.8"
  }
 },
 "nbformat": 4,
 "nbformat_minor": 5
}
