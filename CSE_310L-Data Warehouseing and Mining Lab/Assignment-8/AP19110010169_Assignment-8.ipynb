{
 "cells": [
  {
   "cell_type": "markdown",
   "id": "1a0a8aab",
   "metadata": {},
   "source": [
    "# Distances for ML models"
   ]
  },
  {
   "cell_type": "code",
   "execution_count": 1,
   "id": "94ec88e9",
   "metadata": {},
   "outputs": [],
   "source": [
    "from scipy.spatial import distance\n",
    "import pandas as pd"
   ]
  },
  {
   "cell_type": "code",
   "execution_count": 2,
   "id": "75101bec",
   "metadata": {},
   "outputs": [],
   "source": [
    "low_memory = False"
   ]
  },
  {
   "cell_type": "code",
   "execution_count": 3,
   "id": "3fab7176",
   "metadata": {},
   "outputs": [
    {
     "data": {
      "text/plain": [
       "3.6546759798214974"
      ]
     },
     "execution_count": 3,
     "metadata": {},
     "output_type": "execute_result"
    }
   ],
   "source": [
    "df = pd.read_csv(\"ramen-ratings.csv\")\n",
    "df = df[df.Stars != 'Unrated']\n",
    "df = df['Stars']\n",
    "df = df.astype(float, errors = 'raise')\n",
    "mean = float(df.mean())\n",
    "mean"
   ]
  },
  {
   "cell_type": "code",
   "execution_count": 4,
   "id": "64140ea6",
   "metadata": {},
   "outputs": [
    {
     "data": {
      "text/plain": [
       "((3.6546759798214974, 5), (3.75, 5))"
      ]
     },
     "execution_count": 4,
     "metadata": {},
     "output_type": "execute_result"
    }
   ],
   "source": [
    "DataPoint1 = (mean, 5)\n",
    "DataPoint2 = (df[0],5)\n",
    "DataPoint1, DataPoint2"
   ]
  },
  {
   "cell_type": "code",
   "execution_count": 5,
   "id": "e275a02e",
   "metadata": {},
   "outputs": [],
   "source": [
    "StringPoint1 = \"Zebra\"\n",
    "StringPoint2 = \"Frogs\""
   ]
  },
  {
   "cell_type": "markdown",
   "id": "718f4556",
   "metadata": {},
   "source": [
    "## Euclidean Distance"
   ]
  },
  {
   "cell_type": "code",
   "execution_count": 6,
   "id": "524fc4ce",
   "metadata": {},
   "outputs": [
    {
     "name": "stdout",
     "output_type": "stream",
     "text": [
      "The Distance, Euclidean between Data Point 1 and 2 is :  0.09532402017850261\n"
     ]
    }
   ],
   "source": [
    "EuclideanDistance = distance.euclidean(DataPoint1, DataPoint2)\n",
    "print(\"The Distance, Euclidean between Data Point 1 and 2 is : \", EuclideanDistance)"
   ]
  },
  {
   "cell_type": "markdown",
   "id": "6301cff9",
   "metadata": {},
   "source": [
    " "
   ]
  },
  {
   "cell_type": "markdown",
   "id": "a211100c",
   "metadata": {},
   "source": [
    "## Manhattan Distance"
   ]
  },
  {
   "cell_type": "code",
   "execution_count": 7,
   "id": "346d9532",
   "metadata": {},
   "outputs": [
    {
     "name": "stdout",
     "output_type": "stream",
     "text": [
      "The Distance, Manhattan, between Data Point 1 and 2 is :  0.09532402017850261\n"
     ]
    }
   ],
   "source": [
    "ManhattanDistance = distance.cityblock(DataPoint1, DataPoint2)\n",
    "print(\"The Distance, Manhattan, between Data Point 1 and 2 is : \", ManhattanDistance)"
   ]
  },
  {
   "cell_type": "markdown",
   "id": "3a294825",
   "metadata": {},
   "source": [
    " "
   ]
  },
  {
   "cell_type": "markdown",
   "id": "3cd5f466",
   "metadata": {},
   "source": [
    "## Minkowski Distance"
   ]
  },
  {
   "cell_type": "code",
   "execution_count": 8,
   "id": "01e4bf5a",
   "metadata": {},
   "outputs": [
    {
     "name": "stdout",
     "output_type": "stream",
     "text": [
      "The Distance, Minkowski, between Data Point 1 and 2 is :  0.09532402017850261\n"
     ]
    }
   ],
   "source": [
    "MinkowskiDistance = distance.minkowski(DataPoint1, DataPoint2)\n",
    "print(\"The Distance, Minkowski, between Data Point 1 and 2 is : \", MinkowskiDistance)"
   ]
  },
  {
   "cell_type": "markdown",
   "id": "6156a94f",
   "metadata": {},
   "source": [
    "  "
   ]
  },
  {
   "cell_type": "markdown",
   "id": "776d8441",
   "metadata": {},
   "source": [
    "## Hamming Distance"
   ]
  },
  {
   "cell_type": "code",
   "execution_count": 9,
   "id": "c563fe79",
   "metadata": {},
   "outputs": [
    {
     "name": "stdout",
     "output_type": "stream",
     "text": [
      "The Distance, Hamming, between the String Points 1 and 2 is :  5.0\n"
     ]
    }
   ],
   "source": [
    "HammingDistance = distance.hamming(list(StringPoint1), list(StringPoint2))* len(StringPoint1) if len(StringPoint1) == len(StringPoint2) else print(\"The lengths of the String Points are not equal...\")\n",
    "print(\"The Distance, Hamming, between the String Points 1 and 2 is : \", HammingDistance)"
   ]
  }
 ],
 "metadata": {
  "kernelspec": {
   "display_name": "Python 3 (ipykernel)",
   "language": "python",
   "name": "python3"
  },
  "language_info": {
   "codemirror_mode": {
    "name": "ipython",
    "version": 3
   },
   "file_extension": ".py",
   "mimetype": "text/x-python",
   "name": "python",
   "nbconvert_exporter": "python",
   "pygments_lexer": "ipython3",
   "version": "3.9.7"
  }
 },
 "nbformat": 4,
 "nbformat_minor": 5
}
