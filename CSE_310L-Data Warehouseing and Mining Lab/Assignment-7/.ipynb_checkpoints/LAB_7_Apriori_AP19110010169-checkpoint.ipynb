{
 "cells": [
  {
   "cell_type": "markdown",
   "metadata": {},
   "source": [
    "# Assignment 6\n",
    "## @author : @ruhend (Mudigonda Himansh)\n",
    "## AP19110010169\n",
    "## Apriori Algorithm"
   ]
  },
  {
   "cell_type": "code",
   "execution_count": 14,
   "metadata": {},
   "outputs": [],
   "source": [
    "import numpy as np\n",
    "import pandas as pd\n",
    "import matplotlib.pyplot as plt\n",
    "from collections import Counter"
   ]
  },
  {
   "cell_type": "code",
   "execution_count": 15,
   "metadata": {},
   "outputs": [],
   "source": [
    "low_memory=False"
   ]
  },
  {
   "cell_type": "code",
   "execution_count": 29,
   "metadata": {},
   "outputs": [
    {
     "name": "stdout",
     "output_type": "stream",
     "text": [
      "dataset: (100, 7)\n"
     ]
    }
   ],
   "source": [
    "df = pd.read_csv(\"Transactions.csv\")\n",
    "print ('dataset: %s'%(str(df.shape)))\n",
    "threshold = 15"
   ]
  },
  {
   "cell_type": "code",
   "execution_count": 30,
   "metadata": {},
   "outputs": [
    {
     "data": {
      "text/html": [
       "<div>\n",
       "<style scoped>\n",
       "    .dataframe tbody tr th:only-of-type {\n",
       "        vertical-align: middle;\n",
       "    }\n",
       "\n",
       "    .dataframe tbody tr th {\n",
       "        vertical-align: top;\n",
       "    }\n",
       "\n",
       "    .dataframe thead th {\n",
       "        text-align: right;\n",
       "    }\n",
       "</style>\n",
       "<table border=\"1\" class=\"dataframe\">\n",
       "  <thead>\n",
       "    <tr style=\"text-align: right;\">\n",
       "      <th></th>\n",
       "      <th>Item1</th>\n",
       "      <th>Item2</th>\n",
       "      <th>Item3</th>\n",
       "      <th>Item4</th>\n",
       "      <th>Item5</th>\n",
       "      <th>Item6</th>\n",
       "      <th>Item7</th>\n",
       "    </tr>\n",
       "  </thead>\n",
       "  <tbody>\n",
       "    <tr>\n",
       "      <th>0</th>\n",
       "      <td>W</td>\n",
       "      <td>Z</td>\n",
       "      <td>G</td>\n",
       "      <td>F</td>\n",
       "      <td>B</td>\n",
       "      <td>I</td>\n",
       "      <td>Z</td>\n",
       "    </tr>\n",
       "    <tr>\n",
       "      <th>1</th>\n",
       "      <td>U</td>\n",
       "      <td>S</td>\n",
       "      <td>I</td>\n",
       "      <td>X</td>\n",
       "      <td>B</td>\n",
       "      <td>J</td>\n",
       "      <td>K</td>\n",
       "    </tr>\n",
       "    <tr>\n",
       "      <th>2</th>\n",
       "      <td>C</td>\n",
       "      <td>K</td>\n",
       "      <td>B</td>\n",
       "      <td>B</td>\n",
       "      <td>O</td>\n",
       "      <td>N</td>\n",
       "      <td>R</td>\n",
       "    </tr>\n",
       "    <tr>\n",
       "      <th>3</th>\n",
       "      <td>Q</td>\n",
       "      <td>Q</td>\n",
       "      <td>M</td>\n",
       "      <td>I</td>\n",
       "      <td>P</td>\n",
       "      <td>U</td>\n",
       "      <td>M</td>\n",
       "    </tr>\n",
       "    <tr>\n",
       "      <th>4</th>\n",
       "      <td>G</td>\n",
       "      <td>B</td>\n",
       "      <td>Z</td>\n",
       "      <td>R</td>\n",
       "      <td>O</td>\n",
       "      <td>F</td>\n",
       "      <td>Q</td>\n",
       "    </tr>\n",
       "    <tr>\n",
       "      <th>...</th>\n",
       "      <td>...</td>\n",
       "      <td>...</td>\n",
       "      <td>...</td>\n",
       "      <td>...</td>\n",
       "      <td>...</td>\n",
       "      <td>...</td>\n",
       "      <td>...</td>\n",
       "    </tr>\n",
       "    <tr>\n",
       "      <th>95</th>\n",
       "      <td>R</td>\n",
       "      <td>Q</td>\n",
       "      <td>V</td>\n",
       "      <td>C</td>\n",
       "      <td>D</td>\n",
       "      <td>N</td>\n",
       "      <td>X</td>\n",
       "    </tr>\n",
       "    <tr>\n",
       "      <th>96</th>\n",
       "      <td>X</td>\n",
       "      <td>B</td>\n",
       "      <td>I</td>\n",
       "      <td>F</td>\n",
       "      <td>C</td>\n",
       "      <td>H</td>\n",
       "      <td>H</td>\n",
       "    </tr>\n",
       "    <tr>\n",
       "      <th>97</th>\n",
       "      <td>L</td>\n",
       "      <td>W</td>\n",
       "      <td>B</td>\n",
       "      <td>E</td>\n",
       "      <td>K</td>\n",
       "      <td>Y</td>\n",
       "      <td>A</td>\n",
       "    </tr>\n",
       "    <tr>\n",
       "      <th>98</th>\n",
       "      <td>L</td>\n",
       "      <td>H</td>\n",
       "      <td>W</td>\n",
       "      <td>M</td>\n",
       "      <td>Z</td>\n",
       "      <td>R</td>\n",
       "      <td>H</td>\n",
       "    </tr>\n",
       "    <tr>\n",
       "      <th>99</th>\n",
       "      <td>K</td>\n",
       "      <td>Y</td>\n",
       "      <td>Z</td>\n",
       "      <td>Y</td>\n",
       "      <td>A</td>\n",
       "      <td>M</td>\n",
       "      <td>Z</td>\n",
       "    </tr>\n",
       "  </tbody>\n",
       "</table>\n",
       "<p>100 rows × 7 columns</p>\n",
       "</div>"
      ],
      "text/plain": [
       "   Item1 Item2 Item3 Item4 Item5 Item6 Item7\n",
       "0      W     Z     G     F     B     I     Z\n",
       "1      U     S     I     X     B     J     K\n",
       "2      C     K     B     B     O     N     R\n",
       "3      Q     Q     M     I     P     U     M\n",
       "4      G     B     Z     R     O     F     Q\n",
       "..   ...   ...   ...   ...   ...   ...   ...\n",
       "95     R     Q     V     C     D     N     X\n",
       "96     X     B     I     F     C     H     H\n",
       "97     L     W     B     E     K     Y     A\n",
       "98     L     H     W     M     Z     R     H\n",
       "99     K     Y     Z     Y     A     M     Z\n",
       "\n",
       "[100 rows x 7 columns]"
      ]
     },
     "execution_count": 30,
     "metadata": {},
     "output_type": "execute_result"
    }
   ],
   "source": [
    "df"
   ]
  },
  {
   "cell_type": "code",
   "execution_count": 31,
   "metadata": {},
   "outputs": [
    {
     "name": "stdout",
     "output_type": "stream",
     "text": [
      "{'W': 27, 'U': 35, 'C': 14, 'Q': 30, 'G': 31, 'R': 41, 'D': 32, 'Z': 22, 'T': 36, 'A': 37, 'H': 38, 'S': 33, 'L': 31, 'O': 25, 'Y': 31, 'E': 14, 'K': 25, 'B': 16, 'J': 25, 'P': 23, 'F': 21, 'I': 34, 'X': 30, 'V': 16, 'N': 17, 'M': 16}\n"
     ]
    }
   ],
   "source": [
    "Item1_c = Counter(df.Item1)\n",
    "Item2_c = Counter(df.Item2)\n",
    "Item3_c = Counter(df.Item1)\n",
    "Item4_c = Counter(df.Item2)\n",
    "Item5_c = Counter(df.Item1)\n",
    "Item6_c = Counter(df.Item2)\n",
    "Item7_c = Counter(df.Item1)\n",
    "Freq1=Item1_c+Item2_c+Item3_c+Item4_c+Item5_c+Item6_c+Item7_c\n",
    "print(dict(Freq1))"
   ]
  },
  {
   "cell_type": "code",
   "execution_count": 32,
   "metadata": {},
   "outputs": [
    {
     "ename": "SyntaxError",
     "evalue": "invalid syntax (2250442452.py, line 1)",
     "output_type": "error",
     "traceback": [
      "\u001b[0;36m  File \u001b[0;32m\"/tmp/ipykernel_26208/2250442452.py\"\u001b[0;36m, line \u001b[0;32m1\u001b[0m\n\u001b[0;31m    for i i\u001b[0m\n\u001b[0m          ^\u001b[0m\n\u001b[0;31mSyntaxError\u001b[0m\u001b[0;31m:\u001b[0m invalid syntax\n"
     ]
    }
   ],
   "source": [
    "for i in Freq1:\n",
    "    print(i)"
   ]
  },
  {
   "cell_type": "code",
   "execution_count": null,
   "metadata": {},
   "outputs": [],
   "source": []
  }
 ],
 "metadata": {
  "interpreter": {
   "hash": "69d35d4af0d6f1d012804ebb0ba9424e1d8fa7b62e06babded7dc6a2c67aca27"
  },
  "kernelspec": {
   "display_name": "Python 3 (ipykernel)",
   "language": "python",
   "name": "python3"
  },
  "language_info": {
   "codemirror_mode": {
    "name": "ipython",
    "version": 3
   },
   "file_extension": ".py",
   "mimetype": "text/x-python",
   "name": "python",
   "nbconvert_exporter": "python",
   "pygments_lexer": "ipython3",
   "version": "3.9.7"
  }
 },
 "nbformat": 4,
 "nbformat_minor": 4
}
