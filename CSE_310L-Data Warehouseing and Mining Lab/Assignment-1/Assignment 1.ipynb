{
 "cells": [
  {
   "cell_type": "markdown",
   "id": "e36566c6",
   "metadata": {},
   "source": [
    "# ASSIGNMENT 1"
   ]
  },
  {
   "cell_type": "markdown",
   "id": "b1a21b2b",
   "metadata": {},
   "source": [
    "### NUMPY"
   ]
  },
  {
   "cell_type": "code",
   "execution_count": 162,
   "id": "0100a643",
   "metadata": {},
   "outputs": [],
   "source": [
    "import numpy as np # linear algebra\n",
    "import pandas as pd # data processing, CSV file I/O (e.g. pd.read_csv)"
   ]
  },
  {
   "cell_type": "code",
   "execution_count": 163,
   "id": "22df7996",
   "metadata": {},
   "outputs": [
    {
     "data": {
      "text/plain": [
       "(array([1, 2, 3]),\n",
       " array([[1, 2, 3],\n",
       "        [4, 5, 6]]))"
      ]
     },
     "execution_count": 163,
     "metadata": {},
     "output_type": "execute_result"
    }
   ],
   "source": [
    "a = np.array([1,2,3])\n",
    "b = np.array([[1,2,3],[4,5,6]])\n",
    "a,b"
   ]
  },
  {
   "cell_type": "code",
   "execution_count": 164,
   "id": "1db9c71c",
   "metadata": {},
   "outputs": [
    {
     "name": "stdout",
     "output_type": "stream",
     "text": [
      "2\n",
      "(2, 3)\n",
      "6\n",
      "int32\n",
      "4\n",
      "<memory at 0x000001B5B8EB8930>\n",
      "*******************\n",
      "1\n",
      "(3,)\n",
      "3\n",
      "int32\n",
      "4\n",
      "<memory at 0x000001B5B8EC2F40>\n"
     ]
    }
   ],
   "source": [
    "print(b.ndim)\n",
    "print(b.shape)\n",
    "print(b.size)\n",
    "print(b.dtype)\n",
    "print(b.itemsize)\n",
    "print(b.data)\n",
    "print(\"*******************\")\n",
    "print(a.ndim)\n",
    "print(a.shape)\n",
    "print(a.size)\n",
    "print(a.dtype)\n",
    "print(a.itemsize)\n",
    "print(a.data)"
   ]
  },
  {
   "cell_type": "code",
   "execution_count": 165,
   "id": "667fe2da",
   "metadata": {},
   "outputs": [
    {
     "name": "stdout",
     "output_type": "stream",
     "text": [
      "[[0. 0. 0.]\n",
      " [0. 0. 0.]]\n",
      "[[1. 1. 1.]\n",
      " [1. 1. 1.]]\n",
      "[[1. 1. 1.]\n",
      " [1. 1. 1.]]\n",
      "[1.  1.3 1.6 1.9]\n",
      "[1.         1.66666667 2.33333333 3.        ]\n",
      "[[0.75127434 0.50164657]\n",
      " [0.83311132 0.1337208 ]\n",
      " [0.92577232 0.26216732]\n",
      " [0.362576   0.71281899]\n",
      " [0.61859737 0.21443515]\n",
      " [0.82159706 0.10427572]\n",
      " [0.92040726 0.90034181]\n",
      " [0.33018223 0.58921048]\n",
      " [0.43771194 0.30846615]]\n"
     ]
    }
   ],
   "source": [
    "a = np.zeros((2,3))\n",
    "print(a)\n",
    "\n",
    "b = np.ones((2,3))\n",
    "print(b)\n",
    "\n",
    "c = np.empty((2,3))\n",
    "print(c)\n",
    "\n",
    "d = np.arange(1, 2, 0.3)\n",
    "print(d)\n",
    "\n",
    "e = np.linspace(1, 3, 4)\n",
    "print(e)\n",
    "\n",
    "f = np.random.random((9,2))\n",
    "print(f)"
   ]
  },
  {
   "cell_type": "code",
   "execution_count": 166,
   "id": "940b54dc",
   "metadata": {},
   "outputs": [
    {
     "name": "stdout",
     "output_type": "stream",
     "text": [
      "[[1 2 3]\n",
      " [4 5 6]]\n",
      "[11 12 13 14 15 16 17 18 19 20 21 22]\n"
     ]
    }
   ],
   "source": [
    "a = np.array([(1,2,3), (4,5,6)])\n",
    "b = np.arange(11, 23)\n",
    "print(a)\n",
    "print(b)"
   ]
  },
  {
   "cell_type": "code",
   "execution_count": 167,
   "id": "df42fa77",
   "metadata": {},
   "outputs": [
    {
     "name": "stdout",
     "output_type": "stream",
     "text": [
      "[[11 12 13 14 15 16]\n",
      " [17 18 19 20 21 22]]\n"
     ]
    }
   ],
   "source": [
    "b = b.reshape(2, 6)\n",
    "print(b)"
   ]
  },
  {
   "cell_type": "code",
   "execution_count": 168,
   "id": "0b2fe1a1",
   "metadata": {},
   "outputs": [
    {
     "name": "stdout",
     "output_type": "stream",
     "text": [
      "[[11 12]\n",
      " [13 14]\n",
      " [15 16]\n",
      " [17 18]\n",
      " [19 20]\n",
      " [21 22]]\n"
     ]
    }
   ],
   "source": [
    "b = b.reshape(6, -1)\n",
    "print(b)"
   ]
  },
  {
   "cell_type": "code",
   "execution_count": 169,
   "id": "4c8de79a",
   "metadata": {},
   "outputs": [
    {
     "name": "stdout",
     "output_type": "stream",
     "text": [
      "[[11 12]\n",
      " [13 14]\n",
      " [15 16]\n",
      " [17 18]\n",
      " [19 20]\n",
      " [21 22]]\n",
      "[[11 12]\n",
      " [13 14]\n",
      " [15 16]\n",
      " [17 18]\n",
      " [19 20]\n",
      " [21 22]]\n",
      "[[11 12]\n",
      " [13 14]\n",
      " [15 16]\n",
      " [17 18]\n",
      " [19 20]\n",
      " [21 22]\n",
      " [11 12]\n",
      " [13 14]\n",
      " [15 16]\n",
      " [17 18]\n",
      " [19 20]\n",
      " [21 22]]\n"
     ]
    }
   ],
   "source": [
    "a = b.reshape(6, -1)\n",
    "b = b.reshape(6, -1)\n",
    "c = np.vstack((a, b))\n",
    "print(a)\n",
    "print(b)\n",
    "print(c)"
   ]
  },
  {
   "cell_type": "code",
   "execution_count": 170,
   "id": "e42f3143",
   "metadata": {},
   "outputs": [
    {
     "name": "stdout",
     "output_type": "stream",
     "text": [
      "[[11 12 11 12]\n",
      " [13 14 13 14]\n",
      " [15 16 15 16]\n",
      " [17 18 17 18]\n",
      " [19 20 19 20]\n",
      " [21 22 21 22]]\n"
     ]
    }
   ],
   "source": [
    "d = np.hstack((a, b))\n",
    "print(d)"
   ]
  },
  {
   "cell_type": "code",
   "execution_count": 171,
   "id": "a85cc7ba",
   "metadata": {},
   "outputs": [
    {
     "name": "stdout",
     "output_type": "stream",
     "text": [
      "[[11 12]\n",
      " [13 14]\n",
      " [15 16]\n",
      " [17 18]\n",
      " [19 20]\n",
      " [21 22]]\n",
      "[[11 12]\n",
      " [13 14]\n",
      " [15 16]\n",
      " [17 18]\n",
      " [19 20]\n",
      " [21 22]]\n"
     ]
    }
   ],
   "source": [
    "e = np.hsplit(d,2)\n",
    "print(e[0])\n",
    "print(e[1])"
   ]
  },
  {
   "cell_type": "code",
   "execution_count": 172,
   "id": "25bf1f21",
   "metadata": {},
   "outputs": [
    {
     "name": "stdout",
     "output_type": "stream",
     "text": [
      "[[11 12 11 12]\n",
      " [13 14 13 14]\n",
      " [15 16 15 16]]\n",
      "[[17 18 17 18]\n",
      " [19 20 19 20]\n",
      " [21 22 21 22]]\n"
     ]
    }
   ],
   "source": [
    "e = np.vsplit(d,2)\n",
    "print(e[0])\n",
    "print(e[1])"
   ]
  },
  {
   "cell_type": "code",
   "execution_count": 173,
   "id": "56a7e5d0",
   "metadata": {},
   "outputs": [
    {
     "name": "stdout",
     "output_type": "stream",
     "text": [
      "Sqrt:  [1.         2.23606798 3.        ]\n",
      "Exp:  [2.71828183e+00 1.48413159e+02 8.10308393e+03]\n",
      "Sin:  [ 0.84147098 -0.95892427  0.41211849]\n",
      "Cos:  [ 0.54030231  0.28366219 -0.91113026]\n",
      "Log:  [0.         1.60943791 2.19722458]\n",
      "Sum:  15\n",
      "Std:  3.265986323710904\n"
     ]
    }
   ],
   "source": [
    "arr = np.arange(1,12,4)\n",
    "print(\"Sqrt: \",np.sqrt(arr))#Returns the square root of each element \n",
    "print(\"Exp: \",np.exp(arr))     #Returns the exponentials of each element\n",
    "print(\"Sin: \",np.sin(arr))     #Returns the sin of each element\n",
    "print(\"Cos: \",np.cos(arr))     #Returns the|sine of each element\n",
    "print(\"Log: \",np.log(arr))     #Returns the logarithm of each element\n",
    "print(\"Sum: \",np.sum(arr))     #Returns the sum total of elements in the array\n",
    "print(\"Std: \",np.std(arr))     #Returns the standard deviation of in the array"
   ]
  },
  {
   "cell_type": "code",
   "execution_count": 174,
   "id": "3c40b11a",
   "metadata": {},
   "outputs": [
    {
     "name": "stdout",
     "output_type": "stream",
     "text": [
      "[[1 5 9]\n",
      " [1 5 9]\n",
      " [1 5 9]\n",
      " [1 5 9]]\n",
      "[[1 1 1 1]\n",
      " [5 5 5 5]\n",
      " [9 9 9 9]]\n",
      "[[1 1 1 1]\n",
      " [5 5 5 5]\n",
      " [9 9 9 9]]\n",
      "[[512 542]\n",
      " [512 542]]\n"
     ]
    }
   ],
   "source": [
    "arr = np.vstack((arr,arr,arr,arr))\n",
    "print(arr)\n",
    "print(arr.T)\n",
    "print(arr.transpose())\n",
    "arr = arr.reshape(2,6)\n",
    "print(np.dot(arr,a))"
   ]
  },
  {
   "cell_type": "code",
   "execution_count": 175,
   "id": "318a4933",
   "metadata": {},
   "outputs": [
    {
     "name": "stdout",
     "output_type": "stream",
     "text": [
      "[0.5454307  0.03819351 0.81636617 0.39766138 0.39310083 0.87361066\n",
      " 0.20698953 0.84951414 0.20924999 0.95684632 0.75372948 0.50859569\n",
      " 0.9847731  0.10648727 0.28680467 0.06873582 0.05195702 0.68341922\n",
      " 0.22186351 0.48946748]\n",
      "[[0.67642587 0.13170412 0.82419946 0.87764815]\n",
      " [0.3169665  0.01350721 0.31024606 0.04639071]\n",
      " [0.14015834 0.95853778 0.32421691 0.19002155]]\n",
      "[31  3 45 67 66 51  1 21 15 59 41 13  6 27 89 50 58  6 96 84]\n",
      "[ 7  3  1 18  6 10 16 19  2  9 14 13 12  5 15  4 17  0  8 11]\n"
     ]
    }
   ],
   "source": [
    "print(np.random.random(20));\n",
    "\n",
    "print(np.random.rand(3, 4));\n",
    "\n",
    "print(np.random.randint(0, 100, 20));\n",
    "\n",
    "print(np.random.permutation(np.arange(20)));"
   ]
  },
  {
   "cell_type": "markdown",
   "id": "eaf63343",
   "metadata": {},
   "source": [
    " "
   ]
  },
  {
   "cell_type": "markdown",
   "id": "60e31fca",
   "metadata": {},
   "source": [
    "### PANDAS"
   ]
  },
  {
   "cell_type": "code",
   "execution_count": 176,
   "id": "115e9c0d",
   "metadata": {},
   "outputs": [
    {
     "data": {
      "text/html": [
       "<div>\n",
       "<style scoped>\n",
       "    .dataframe tbody tr th:only-of-type {\n",
       "        vertical-align: middle;\n",
       "    }\n",
       "\n",
       "    .dataframe tbody tr th {\n",
       "        vertical-align: top;\n",
       "    }\n",
       "\n",
       "    .dataframe thead th {\n",
       "        text-align: right;\n",
       "    }\n",
       "</style>\n",
       "<table border=\"1\" class=\"dataframe\">\n",
       "  <thead>\n",
       "    <tr style=\"text-align: right;\">\n",
       "      <th></th>\n",
       "      <th>Kabir</th>\n",
       "      <th>Suresh</th>\n",
       "      <th>Riya</th>\n",
       "    </tr>\n",
       "  </thead>\n",
       "  <tbody>\n",
       "    <tr>\n",
       "      <th>Age</th>\n",
       "      <td>50</td>\n",
       "      <td>31</td>\n",
       "      <td>51</td>\n",
       "    </tr>\n",
       "    <tr>\n",
       "      <th>Cost</th>\n",
       "      <td>21</td>\n",
       "      <td>22</td>\n",
       "      <td>20</td>\n",
       "    </tr>\n",
       "  </tbody>\n",
       "</table>\n",
       "</div>"
      ],
      "text/plain": [
       "      Kabir  Suresh  Riya\n",
       "Age      50      31    51\n",
       "Cost     21      22    20"
      ]
     },
     "execution_count": 176,
     "metadata": {},
     "output_type": "execute_result"
    }
   ],
   "source": [
    "pd.DataFrame({'Kabir': [50, 21], 'Suresh': [31, 22], 'Riya': [51, 20]},index=[\"Age\",\"Cost\"])"
   ]
  },
  {
   "cell_type": "code",
   "execution_count": 177,
   "id": "9c5de38b",
   "metadata": {},
   "outputs": [
    {
     "data": {
      "text/plain": [
       "0    1\n",
       "1    2\n",
       "2    3\n",
       "3    4\n",
       "4    5\n",
       "dtype: int64"
      ]
     },
     "execution_count": 177,
     "metadata": {},
     "output_type": "execute_result"
    }
   ],
   "source": [
    "pd.Series([1, 2, 3, 4, 5])"
   ]
  },
  {
   "cell_type": "code",
   "execution_count": 178,
   "id": "e1a672bc",
   "metadata": {},
   "outputs": [
    {
     "data": {
      "text/plain": [
       "a    1\n",
       "b    2\n",
       "c    3\n",
       "d    4\n",
       "e    5\n",
       "dtype: int64"
      ]
     },
     "execution_count": 178,
     "metadata": {},
     "output_type": "execute_result"
    }
   ],
   "source": [
    "pd.Series([1, 2, 3, 4, 5],index=['a','b','c','d','e'])"
   ]
  },
  {
   "cell_type": "code",
   "execution_count": 196,
   "id": "a2f8570a",
   "metadata": {},
   "outputs": [
    {
     "name": "stdout",
     "output_type": "stream",
     "text": [
      "                         id  \\\n",
      "0      AVqkIhwDv8e3D1O-lebb   \n",
      "1      AVqkIhwDv8e3D1O-lebb   \n",
      "2      AVqkIhwDv8e3D1O-lebb   \n",
      "3      AVqkIhwDv8e3D1O-lebb   \n",
      "4      AVqkIhwDv8e3D1O-lebb   \n",
      "...                     ...   \n",
      "34655  AVpfiBlyLJeJML43-4Tp   \n",
      "34656  AVpfiBlyLJeJML43-4Tp   \n",
      "34657  AVpfiBlyLJeJML43-4Tp   \n",
      "34658  AVpfiBlyLJeJML43-4Tp   \n",
      "34659  AVpfiBlyLJeJML43-4Tp   \n",
      "\n",
      "                                                    name       asins   brand  \\\n",
      "0      All-New Fire HD 8 Tablet, 8 HD Display, Wi-Fi,...  B01AHB9CN2  Amazon   \n",
      "1      All-New Fire HD 8 Tablet, 8 HD Display, Wi-Fi,...  B01AHB9CN2  Amazon   \n",
      "2      All-New Fire HD 8 Tablet, 8 HD Display, Wi-Fi,...  B01AHB9CN2  Amazon   \n",
      "3      All-New Fire HD 8 Tablet, 8 HD Display, Wi-Fi,...  B01AHB9CN2  Amazon   \n",
      "4      All-New Fire HD 8 Tablet, 8 HD Display, Wi-Fi,...  B01AHB9CN2  Amazon   \n",
      "...                                                  ...         ...     ...   \n",
      "34655                                                NaN  B006GWO5WK  Amazon   \n",
      "34656                                                NaN  B006GWO5WK  Amazon   \n",
      "34657                                                NaN  B006GWO5WK  Amazon   \n",
      "34658                                                NaN  B006GWO5WK  Amazon   \n",
      "34659                                                NaN  B006GWO5WK  Amazon   \n",
      "\n",
      "                                              categories  \\\n",
      "0      Electronics,iPad & Tablets,All Tablets,Fire Ta...   \n",
      "1      Electronics,iPad & Tablets,All Tablets,Fire Ta...   \n",
      "2      Electronics,iPad & Tablets,All Tablets,Fire Ta...   \n",
      "3      Electronics,iPad & Tablets,All Tablets,Fire Ta...   \n",
      "4      Electronics,iPad & Tablets,All Tablets,Fire Ta...   \n",
      "...                                                  ...   \n",
      "34655  Computers/Tablets & Networking,Tablet & eBook ...   \n",
      "34656  Computers/Tablets & Networking,Tablet & eBook ...   \n",
      "34657  Computers/Tablets & Networking,Tablet & eBook ...   \n",
      "34658  Computers/Tablets & Networking,Tablet & eBook ...   \n",
      "34659  Computers/Tablets & Networking,Tablet & eBook ...   \n",
      "\n",
      "                                                    keys  \\\n",
      "0      841667104676,amazon/53004484,amazon/b01ahb9cn2...   \n",
      "1      841667104676,amazon/53004484,amazon/b01ahb9cn2...   \n",
      "2      841667104676,amazon/53004484,amazon/b01ahb9cn2...   \n",
      "3      841667104676,amazon/53004484,amazon/b01ahb9cn2...   \n",
      "4      841667104676,amazon/53004484,amazon/b01ahb9cn2...   \n",
      "...                                                  ...   \n",
      "34655  newamazonkindlefirehd9wpowerfastadaptercharger...   \n",
      "34656  newamazonkindlefirehd9wpowerfastadaptercharger...   \n",
      "34657  newamazonkindlefirehd9wpowerfastadaptercharger...   \n",
      "34658  newamazonkindlefirehd9wpowerfastadaptercharger...   \n",
      "34659  newamazonkindlefirehd9wpowerfastadaptercharger...   \n",
      "\n",
      "                       manufacturer              reviews.date  \\\n",
      "0                            Amazon  2017-01-13T00:00:00.000Z   \n",
      "1                            Amazon  2017-01-13T00:00:00.000Z   \n",
      "2                            Amazon  2017-01-13T00:00:00.000Z   \n",
      "3                            Amazon  2017-01-13T00:00:00.000Z   \n",
      "4                            Amazon  2017-01-12T00:00:00.000Z   \n",
      "...                             ...                       ...   \n",
      "34655  Amazon Digital Services, Inc      2012-09-18T00:00:00Z   \n",
      "34656  Amazon Digital Services, Inc      2012-11-21T00:00:00Z   \n",
      "34657  Amazon Digital Services, Inc      2012-10-19T00:00:00Z   \n",
      "34658  Amazon Digital Services, Inc      2012-10-31T00:00:00Z   \n",
      "34659  Amazon Digital Services, Inc      2012-12-23T00:00:00Z   \n",
      "\n",
      "          reviews.dateAdded  \\\n",
      "0      2017-07-03T23:33:15Z   \n",
      "1      2017-07-03T23:33:15Z   \n",
      "2      2017-07-03T23:33:15Z   \n",
      "3      2017-07-03T23:33:15Z   \n",
      "4      2017-07-03T23:33:15Z   \n",
      "...                     ...   \n",
      "34655                   NaN   \n",
      "34656                   NaN   \n",
      "34657                   NaN   \n",
      "34658                   NaN   \n",
      "34659                   NaN   \n",
      "\n",
      "                                        reviews.dateSeen  ...  \\\n",
      "0      2017-06-07T09:04:00.000Z,2017-04-30T00:45:00.000Z  ...   \n",
      "1      2017-06-07T09:04:00.000Z,2017-04-30T00:45:00.000Z  ...   \n",
      "2      2017-06-07T09:04:00.000Z,2017-04-30T00:45:00.000Z  ...   \n",
      "3      2017-06-07T09:04:00.000Z,2017-04-30T00:45:00.000Z  ...   \n",
      "4      2017-06-07T09:04:00.000Z,2017-04-30T00:45:00.000Z  ...   \n",
      "...                                                  ...  ...   \n",
      "34655                               2015-08-29T00:00:00Z  ...   \n",
      "34656                               2015-09-02T00:00:00Z  ...   \n",
      "34657                               2015-09-04T00:00:00Z  ...   \n",
      "34658                               2015-09-01T00:00:00Z  ...   \n",
      "34659                               2015-11-01T00:00:00Z  ...   \n",
      "\n",
      "      reviews.doRecommend reviews.id  reviews.numHelpful  reviews.rating  \\\n",
      "0                    True        NaN                 0.0             5.0   \n",
      "1                    True        NaN                 0.0             5.0   \n",
      "2                    True        NaN                 0.0             5.0   \n",
      "3                    True        NaN                 0.0             4.0   \n",
      "4                    True        NaN                 0.0             5.0   \n",
      "...                   ...        ...                 ...             ...   \n",
      "34655                 NaN        NaN                 NaN             3.0   \n",
      "34656                 NaN        NaN                 NaN             1.0   \n",
      "34657                 NaN        NaN                 NaN             1.0   \n",
      "34658                 NaN        NaN                 NaN             1.0   \n",
      "34659                 NaN        NaN                 NaN             1.0   \n",
      "\n",
      "                                      reviews.sourceURLs  \\\n",
      "0      http://reviews.bestbuy.com/3545/5620406/review...   \n",
      "1      http://reviews.bestbuy.com/3545/5620406/review...   \n",
      "2      http://reviews.bestbuy.com/3545/5620406/review...   \n",
      "3      http://reviews.bestbuy.com/3545/5620406/review...   \n",
      "4      http://reviews.bestbuy.com/3545/5620406/review...   \n",
      "...                                                  ...   \n",
      "34655  http://www.amazon.com/Amazon-PowerFast-Adapter...   \n",
      "34656  http://www.amazon.com/Amazon-PowerFast-Adapter...   \n",
      "34657  http://www.amazon.com/Amazon-PowerFast-Adapter...   \n",
      "34658  http://www.amazon.com/Amazon-PowerFast-Adapter...   \n",
      "34659  http://www.amazon.com/Amazon-PowerFast-Adapter...   \n",
      "\n",
      "                                            reviews.text  \\\n",
      "0      This product so far has not disappointed. My c...   \n",
      "1      great for beginner or experienced person. Boug...   \n",
      "2      Inexpensive tablet for him to use and learn on...   \n",
      "3      I've had my Fire HD 8 two weeks now and I love...   \n",
      "4      I bought this for my grand daughter when she c...   \n",
      "...                                                  ...   \n",
      "34655  This is not appreciably faster than any other ...   \n",
      "34656  Amazon should include this charger with the Ki...   \n",
      "34657  Love my Kindle Fire but I am really disappoint...   \n",
      "34658  I was surprised to find it did not come with a...   \n",
      "34659  to spite the fact that i have nothing but good...   \n",
      "\n",
      "                                           reviews.title reviews.userCity  \\\n",
      "0                                                 Kindle              NaN   \n",
      "1                                              very fast              NaN   \n",
      "2                Beginner tablet for our 9 year old son.              NaN   \n",
      "3                                                Good!!!              NaN   \n",
      "4                              Fantastic Tablet for kids              NaN   \n",
      "...                                                  ...              ...   \n",
      "34655  Not appreciably faster than any other 1.8A cha...              NaN   \n",
      "34656                                 Should be included              NaN   \n",
      "34657                              Disappointing Charger              NaN   \n",
      "34658                                Not worth the money              NaN   \n",
      "34659                              as with everyone else              NaN   \n",
      "\n",
      "       reviews.userProvince  reviews.username  \n",
      "0                       NaN           Adapter  \n",
      "1                       NaN            truman  \n",
      "2                       NaN             DaveZ  \n",
      "3                       NaN            Shacks  \n",
      "4                       NaN         explore42  \n",
      "...                     ...               ...  \n",
      "34655                   NaN              Kris  \n",
      "34656                   NaN  Jonathan Stewart  \n",
      "34657                   NaN          J Lawson  \n",
      "34658                   NaN    Just the Buyer  \n",
      "34659                   NaN             sandi  \n",
      "\n",
      "[34660 rows x 21 columns]\n"
     ]
    },
    {
     "name": "stderr",
     "output_type": "stream",
     "text": [
      "C:\\ProgramData\\Anaconda3\\lib\\site-packages\\IPython\\core\\interactiveshell.py:3165: DtypeWarning: Columns (1,10) have mixed types.Specify dtype option on import or set low_memory=False.\n",
      "  has_raised = await self.run_ast_nodes(code_ast.body, cell_name,\n"
     ]
    }
   ],
   "source": [
    "data = pd.read_csv(\"./data.csv\")\n",
    "print(data)"
   ]
  },
  {
   "cell_type": "code",
   "execution_count": 180,
   "id": "172abbc9",
   "metadata": {},
   "outputs": [
    {
     "data": {
      "text/plain": [
       "(34660, 21)"
      ]
     },
     "execution_count": 180,
     "metadata": {},
     "output_type": "execute_result"
    }
   ],
   "source": [
    "data.shape"
   ]
  },
  {
   "cell_type": "code",
   "execution_count": 181,
   "id": "8391a683",
   "metadata": {},
   "outputs": [
    {
     "data": {
      "text/html": [
       "<div>\n",
       "<style scoped>\n",
       "    .dataframe tbody tr th:only-of-type {\n",
       "        vertical-align: middle;\n",
       "    }\n",
       "\n",
       "    .dataframe tbody tr th {\n",
       "        vertical-align: top;\n",
       "    }\n",
       "\n",
       "    .dataframe thead th {\n",
       "        text-align: right;\n",
       "    }\n",
       "</style>\n",
       "<table border=\"1\" class=\"dataframe\">\n",
       "  <thead>\n",
       "    <tr style=\"text-align: right;\">\n",
       "      <th></th>\n",
       "      <th>id</th>\n",
       "      <th>name</th>\n",
       "      <th>asins</th>\n",
       "      <th>brand</th>\n",
       "      <th>categories</th>\n",
       "      <th>keys</th>\n",
       "      <th>manufacturer</th>\n",
       "      <th>reviews.date</th>\n",
       "      <th>reviews.dateAdded</th>\n",
       "      <th>reviews.dateSeen</th>\n",
       "      <th>...</th>\n",
       "      <th>reviews.doRecommend</th>\n",
       "      <th>reviews.id</th>\n",
       "      <th>reviews.numHelpful</th>\n",
       "      <th>reviews.rating</th>\n",
       "      <th>reviews.sourceURLs</th>\n",
       "      <th>reviews.text</th>\n",
       "      <th>reviews.title</th>\n",
       "      <th>reviews.userCity</th>\n",
       "      <th>reviews.userProvince</th>\n",
       "      <th>reviews.username</th>\n",
       "    </tr>\n",
       "  </thead>\n",
       "  <tbody>\n",
       "    <tr>\n",
       "      <th>0</th>\n",
       "      <td>AVqkIhwDv8e3D1O-lebb</td>\n",
       "      <td>All-New Fire HD 8 Tablet, 8 HD Display, Wi-Fi,...</td>\n",
       "      <td>B01AHB9CN2</td>\n",
       "      <td>Amazon</td>\n",
       "      <td>Electronics,iPad &amp; Tablets,All Tablets,Fire Ta...</td>\n",
       "      <td>841667104676,amazon/53004484,amazon/b01ahb9cn2...</td>\n",
       "      <td>Amazon</td>\n",
       "      <td>2017-01-13T00:00:00.000Z</td>\n",
       "      <td>2017-07-03T23:33:15Z</td>\n",
       "      <td>2017-06-07T09:04:00.000Z,2017-04-30T00:45:00.000Z</td>\n",
       "      <td>...</td>\n",
       "      <td>True</td>\n",
       "      <td>NaN</td>\n",
       "      <td>0.0</td>\n",
       "      <td>5.0</td>\n",
       "      <td>http://reviews.bestbuy.com/3545/5620406/review...</td>\n",
       "      <td>This product so far has not disappointed. My c...</td>\n",
       "      <td>Kindle</td>\n",
       "      <td>NaN</td>\n",
       "      <td>NaN</td>\n",
       "      <td>Adapter</td>\n",
       "    </tr>\n",
       "    <tr>\n",
       "      <th>1</th>\n",
       "      <td>AVqkIhwDv8e3D1O-lebb</td>\n",
       "      <td>All-New Fire HD 8 Tablet, 8 HD Display, Wi-Fi,...</td>\n",
       "      <td>B01AHB9CN2</td>\n",
       "      <td>Amazon</td>\n",
       "      <td>Electronics,iPad &amp; Tablets,All Tablets,Fire Ta...</td>\n",
       "      <td>841667104676,amazon/53004484,amazon/b01ahb9cn2...</td>\n",
       "      <td>Amazon</td>\n",
       "      <td>2017-01-13T00:00:00.000Z</td>\n",
       "      <td>2017-07-03T23:33:15Z</td>\n",
       "      <td>2017-06-07T09:04:00.000Z,2017-04-30T00:45:00.000Z</td>\n",
       "      <td>...</td>\n",
       "      <td>True</td>\n",
       "      <td>NaN</td>\n",
       "      <td>0.0</td>\n",
       "      <td>5.0</td>\n",
       "      <td>http://reviews.bestbuy.com/3545/5620406/review...</td>\n",
       "      <td>great for beginner or experienced person. Boug...</td>\n",
       "      <td>very fast</td>\n",
       "      <td>NaN</td>\n",
       "      <td>NaN</td>\n",
       "      <td>truman</td>\n",
       "    </tr>\n",
       "    <tr>\n",
       "      <th>2</th>\n",
       "      <td>AVqkIhwDv8e3D1O-lebb</td>\n",
       "      <td>All-New Fire HD 8 Tablet, 8 HD Display, Wi-Fi,...</td>\n",
       "      <td>B01AHB9CN2</td>\n",
       "      <td>Amazon</td>\n",
       "      <td>Electronics,iPad &amp; Tablets,All Tablets,Fire Ta...</td>\n",
       "      <td>841667104676,amazon/53004484,amazon/b01ahb9cn2...</td>\n",
       "      <td>Amazon</td>\n",
       "      <td>2017-01-13T00:00:00.000Z</td>\n",
       "      <td>2017-07-03T23:33:15Z</td>\n",
       "      <td>2017-06-07T09:04:00.000Z,2017-04-30T00:45:00.000Z</td>\n",
       "      <td>...</td>\n",
       "      <td>True</td>\n",
       "      <td>NaN</td>\n",
       "      <td>0.0</td>\n",
       "      <td>5.0</td>\n",
       "      <td>http://reviews.bestbuy.com/3545/5620406/review...</td>\n",
       "      <td>Inexpensive tablet for him to use and learn on...</td>\n",
       "      <td>Beginner tablet for our 9 year old son.</td>\n",
       "      <td>NaN</td>\n",
       "      <td>NaN</td>\n",
       "      <td>DaveZ</td>\n",
       "    </tr>\n",
       "    <tr>\n",
       "      <th>3</th>\n",
       "      <td>AVqkIhwDv8e3D1O-lebb</td>\n",
       "      <td>All-New Fire HD 8 Tablet, 8 HD Display, Wi-Fi,...</td>\n",
       "      <td>B01AHB9CN2</td>\n",
       "      <td>Amazon</td>\n",
       "      <td>Electronics,iPad &amp; Tablets,All Tablets,Fire Ta...</td>\n",
       "      <td>841667104676,amazon/53004484,amazon/b01ahb9cn2...</td>\n",
       "      <td>Amazon</td>\n",
       "      <td>2017-01-13T00:00:00.000Z</td>\n",
       "      <td>2017-07-03T23:33:15Z</td>\n",
       "      <td>2017-06-07T09:04:00.000Z,2017-04-30T00:45:00.000Z</td>\n",
       "      <td>...</td>\n",
       "      <td>True</td>\n",
       "      <td>NaN</td>\n",
       "      <td>0.0</td>\n",
       "      <td>4.0</td>\n",
       "      <td>http://reviews.bestbuy.com/3545/5620406/review...</td>\n",
       "      <td>I've had my Fire HD 8 two weeks now and I love...</td>\n",
       "      <td>Good!!!</td>\n",
       "      <td>NaN</td>\n",
       "      <td>NaN</td>\n",
       "      <td>Shacks</td>\n",
       "    </tr>\n",
       "    <tr>\n",
       "      <th>4</th>\n",
       "      <td>AVqkIhwDv8e3D1O-lebb</td>\n",
       "      <td>All-New Fire HD 8 Tablet, 8 HD Display, Wi-Fi,...</td>\n",
       "      <td>B01AHB9CN2</td>\n",
       "      <td>Amazon</td>\n",
       "      <td>Electronics,iPad &amp; Tablets,All Tablets,Fire Ta...</td>\n",
       "      <td>841667104676,amazon/53004484,amazon/b01ahb9cn2...</td>\n",
       "      <td>Amazon</td>\n",
       "      <td>2017-01-12T00:00:00.000Z</td>\n",
       "      <td>2017-07-03T23:33:15Z</td>\n",
       "      <td>2017-06-07T09:04:00.000Z,2017-04-30T00:45:00.000Z</td>\n",
       "      <td>...</td>\n",
       "      <td>True</td>\n",
       "      <td>NaN</td>\n",
       "      <td>0.0</td>\n",
       "      <td>5.0</td>\n",
       "      <td>http://reviews.bestbuy.com/3545/5620406/review...</td>\n",
       "      <td>I bought this for my grand daughter when she c...</td>\n",
       "      <td>Fantastic Tablet for kids</td>\n",
       "      <td>NaN</td>\n",
       "      <td>NaN</td>\n",
       "      <td>explore42</td>\n",
       "    </tr>\n",
       "  </tbody>\n",
       "</table>\n",
       "<p>5 rows × 21 columns</p>\n",
       "</div>"
      ],
      "text/plain": [
       "                     id                                               name  \\\n",
       "0  AVqkIhwDv8e3D1O-lebb  All-New Fire HD 8 Tablet, 8 HD Display, Wi-Fi,...   \n",
       "1  AVqkIhwDv8e3D1O-lebb  All-New Fire HD 8 Tablet, 8 HD Display, Wi-Fi,...   \n",
       "2  AVqkIhwDv8e3D1O-lebb  All-New Fire HD 8 Tablet, 8 HD Display, Wi-Fi,...   \n",
       "3  AVqkIhwDv8e3D1O-lebb  All-New Fire HD 8 Tablet, 8 HD Display, Wi-Fi,...   \n",
       "4  AVqkIhwDv8e3D1O-lebb  All-New Fire HD 8 Tablet, 8 HD Display, Wi-Fi,...   \n",
       "\n",
       "        asins   brand                                         categories  \\\n",
       "0  B01AHB9CN2  Amazon  Electronics,iPad & Tablets,All Tablets,Fire Ta...   \n",
       "1  B01AHB9CN2  Amazon  Electronics,iPad & Tablets,All Tablets,Fire Ta...   \n",
       "2  B01AHB9CN2  Amazon  Electronics,iPad & Tablets,All Tablets,Fire Ta...   \n",
       "3  B01AHB9CN2  Amazon  Electronics,iPad & Tablets,All Tablets,Fire Ta...   \n",
       "4  B01AHB9CN2  Amazon  Electronics,iPad & Tablets,All Tablets,Fire Ta...   \n",
       "\n",
       "                                                keys manufacturer  \\\n",
       "0  841667104676,amazon/53004484,amazon/b01ahb9cn2...       Amazon   \n",
       "1  841667104676,amazon/53004484,amazon/b01ahb9cn2...       Amazon   \n",
       "2  841667104676,amazon/53004484,amazon/b01ahb9cn2...       Amazon   \n",
       "3  841667104676,amazon/53004484,amazon/b01ahb9cn2...       Amazon   \n",
       "4  841667104676,amazon/53004484,amazon/b01ahb9cn2...       Amazon   \n",
       "\n",
       "               reviews.date     reviews.dateAdded  \\\n",
       "0  2017-01-13T00:00:00.000Z  2017-07-03T23:33:15Z   \n",
       "1  2017-01-13T00:00:00.000Z  2017-07-03T23:33:15Z   \n",
       "2  2017-01-13T00:00:00.000Z  2017-07-03T23:33:15Z   \n",
       "3  2017-01-13T00:00:00.000Z  2017-07-03T23:33:15Z   \n",
       "4  2017-01-12T00:00:00.000Z  2017-07-03T23:33:15Z   \n",
       "\n",
       "                                    reviews.dateSeen  ... reviews.doRecommend  \\\n",
       "0  2017-06-07T09:04:00.000Z,2017-04-30T00:45:00.000Z  ...                True   \n",
       "1  2017-06-07T09:04:00.000Z,2017-04-30T00:45:00.000Z  ...                True   \n",
       "2  2017-06-07T09:04:00.000Z,2017-04-30T00:45:00.000Z  ...                True   \n",
       "3  2017-06-07T09:04:00.000Z,2017-04-30T00:45:00.000Z  ...                True   \n",
       "4  2017-06-07T09:04:00.000Z,2017-04-30T00:45:00.000Z  ...                True   \n",
       "\n",
       "  reviews.id  reviews.numHelpful  reviews.rating  \\\n",
       "0        NaN                 0.0             5.0   \n",
       "1        NaN                 0.0             5.0   \n",
       "2        NaN                 0.0             5.0   \n",
       "3        NaN                 0.0             4.0   \n",
       "4        NaN                 0.0             5.0   \n",
       "\n",
       "                                  reviews.sourceURLs  \\\n",
       "0  http://reviews.bestbuy.com/3545/5620406/review...   \n",
       "1  http://reviews.bestbuy.com/3545/5620406/review...   \n",
       "2  http://reviews.bestbuy.com/3545/5620406/review...   \n",
       "3  http://reviews.bestbuy.com/3545/5620406/review...   \n",
       "4  http://reviews.bestbuy.com/3545/5620406/review...   \n",
       "\n",
       "                                        reviews.text  \\\n",
       "0  This product so far has not disappointed. My c...   \n",
       "1  great for beginner or experienced person. Boug...   \n",
       "2  Inexpensive tablet for him to use and learn on...   \n",
       "3  I've had my Fire HD 8 two weeks now and I love...   \n",
       "4  I bought this for my grand daughter when she c...   \n",
       "\n",
       "                             reviews.title reviews.userCity  \\\n",
       "0                                   Kindle              NaN   \n",
       "1                                very fast              NaN   \n",
       "2  Beginner tablet for our 9 year old son.              NaN   \n",
       "3                                  Good!!!              NaN   \n",
       "4                Fantastic Tablet for kids              NaN   \n",
       "\n",
       "   reviews.userProvince  reviews.username  \n",
       "0                   NaN           Adapter  \n",
       "1                   NaN            truman  \n",
       "2                   NaN             DaveZ  \n",
       "3                   NaN            Shacks  \n",
       "4                   NaN         explore42  \n",
       "\n",
       "[5 rows x 21 columns]"
      ]
     },
     "execution_count": 181,
     "metadata": {},
     "output_type": "execute_result"
    }
   ],
   "source": [
    "data.head()"
   ]
  },
  {
   "cell_type": "code",
   "execution_count": 182,
   "id": "7a9cec44",
   "metadata": {},
   "outputs": [
    {
     "data": {
      "text/plain": [
       "0        AVqkIhwDv8e3D1O-lebb\n",
       "1        AVqkIhwDv8e3D1O-lebb\n",
       "2        AVqkIhwDv8e3D1O-lebb\n",
       "3        AVqkIhwDv8e3D1O-lebb\n",
       "4        AVqkIhwDv8e3D1O-lebb\n",
       "                 ...         \n",
       "34655    AVpfiBlyLJeJML43-4Tp\n",
       "34656    AVpfiBlyLJeJML43-4Tp\n",
       "34657    AVpfiBlyLJeJML43-4Tp\n",
       "34658    AVpfiBlyLJeJML43-4Tp\n",
       "34659    AVpfiBlyLJeJML43-4Tp\n",
       "Name: id, Length: 34660, dtype: object"
      ]
     },
     "execution_count": 182,
     "metadata": {},
     "output_type": "execute_result"
    }
   ],
   "source": [
    "data.id"
   ]
  },
  {
   "cell_type": "code",
   "execution_count": 183,
   "id": "e5940e92",
   "metadata": {},
   "outputs": [
    {
     "data": {
      "text/plain": [
       "'AVqkIhwDv8e3D1O-lebb'"
      ]
     },
     "execution_count": 183,
     "metadata": {},
     "output_type": "execute_result"
    }
   ],
   "source": [
    "data['id'][4]"
   ]
  },
  {
   "cell_type": "code",
   "execution_count": 184,
   "id": "56497fc8",
   "metadata": {},
   "outputs": [
    {
     "data": {
      "text/plain": [
       "id                                                   AVqkIhwDv8e3D1O-lebb\n",
       "name                    All-New Fire HD 8 Tablet, 8 HD Display, Wi-Fi,...\n",
       "asins                                                          B01AHB9CN2\n",
       "brand                                                              Amazon\n",
       "categories              Electronics,iPad & Tablets,All Tablets,Fire Ta...\n",
       "keys                    841667104676,amazon/53004484,amazon/b01ahb9cn2...\n",
       "manufacturer                                                       Amazon\n",
       "reviews.date                                     2017-01-13T00:00:00.000Z\n",
       "reviews.dateAdded                                    2017-07-03T23:33:15Z\n",
       "reviews.dateSeen        2017-06-07T09:04:00.000Z,2017-04-30T00:45:00.000Z\n",
       "reviews.didPurchase                                                   NaN\n",
       "reviews.doRecommend                                                  True\n",
       "reviews.id                                                            NaN\n",
       "reviews.numHelpful                                                    0.0\n",
       "reviews.rating                                                        5.0\n",
       "reviews.sourceURLs      http://reviews.bestbuy.com/3545/5620406/review...\n",
       "reviews.text            This product so far has not disappointed. My c...\n",
       "reviews.title                                                      Kindle\n",
       "reviews.userCity                                                      NaN\n",
       "reviews.userProvince                                                  NaN\n",
       "reviews.username                                                  Adapter\n",
       "Name: 0, dtype: object"
      ]
     },
     "execution_count": 184,
     "metadata": {},
     "output_type": "execute_result"
    }
   ],
   "source": [
    "data.iloc[0]"
   ]
  },
  {
   "cell_type": "code",
   "execution_count": 185,
   "id": "32f2641a",
   "metadata": {
    "scrolled": true
   },
   "outputs": [
    {
     "data": {
      "text/plain": [
       "4     AVqkIhwDv8e3D1O-lebb\n",
       "5     AVqkIhwDv8e3D1O-lebb\n",
       "6     AVqkIhwDv8e3D1O-lebb\n",
       "7     AVqkIhwDv8e3D1O-lebb\n",
       "8     AVqkIhwDv8e3D1O-lebb\n",
       "9     AVqkIhwDv8e3D1O-lebb\n",
       "10    AVqkIhwDv8e3D1O-lebb\n",
       "11    AVqkIhwDv8e3D1O-lebb\n",
       "12    AVqkIhwDv8e3D1O-lebb\n",
       "13    AVqkIhwDv8e3D1O-lebb\n",
       "14    AVqkIhwDv8e3D1O-lebb\n",
       "Name: id, dtype: object"
      ]
     },
     "execution_count": 185,
     "metadata": {},
     "output_type": "execute_result"
    }
   ],
   "source": [
    "data.iloc[4:15,0]"
   ]
  },
  {
   "cell_type": "code",
   "execution_count": 186,
   "id": "8ff174f4",
   "metadata": {},
   "outputs": [
    {
     "data": {
      "text/plain": [
       "3       AVqkIhwDv8e3D1O-lebb\n",
       "44      AVqkIhwDv8e3D1O-lebb\n",
       "734     AVqkIhwDv8e3D1O-lebb\n",
       "3452    AVsRjfwAU2_QcyX9PHqe\n",
       "Name: id, dtype: object"
      ]
     },
     "execution_count": 186,
     "metadata": {},
     "output_type": "execute_result"
    }
   ],
   "source": [
    "data.iloc[[3,44,734,3452],0]"
   ]
  },
  {
   "cell_type": "code",
   "execution_count": 187,
   "id": "ed9d65b1",
   "metadata": {},
   "outputs": [
    {
     "data": {
      "text/plain": [
       "34655    AVpfiBlyLJeJML43-4Tp\n",
       "34656    AVpfiBlyLJeJML43-4Tp\n",
       "34657    AVpfiBlyLJeJML43-4Tp\n",
       "34658    AVpfiBlyLJeJML43-4Tp\n",
       "34659    AVpfiBlyLJeJML43-4Tp\n",
       "Name: id, dtype: object"
      ]
     },
     "execution_count": 187,
     "metadata": {},
     "output_type": "execute_result"
    }
   ],
   "source": [
    "data.iloc[-5:,0]"
   ]
  },
  {
   "cell_type": "code",
   "execution_count": 188,
   "id": "56cb4d14",
   "metadata": {},
   "outputs": [
    {
     "data": {
      "text/plain": [
       "0                                      Kindle\n",
       "1                                   very fast\n",
       "2     Beginner tablet for our 9 year old son.\n",
       "3                                     Good!!!\n",
       "4                   Fantastic Tablet for kids\n",
       "                       ...                   \n",
       "58    Present for my daughter & she loves it!\n",
       "59                        Great little device\n",
       "60       Perfect for artist reference photos!\n",
       "61           Great tablet for what it's worth\n",
       "62                               Great tablet\n",
       "Name: reviews.title, Length: 63, dtype: object"
      ]
     },
     "execution_count": 188,
     "metadata": {},
     "output_type": "execute_result"
    }
   ],
   "source": [
    "data.loc[:62,'reviews.title']"
   ]
  },
  {
   "cell_type": "code",
   "execution_count": 189,
   "id": "9995cbb0",
   "metadata": {},
   "outputs": [
    {
     "data": {
      "text/html": [
       "<div>\n",
       "<style scoped>\n",
       "    .dataframe tbody tr th:only-of-type {\n",
       "        vertical-align: middle;\n",
       "    }\n",
       "\n",
       "    .dataframe tbody tr th {\n",
       "        vertical-align: top;\n",
       "    }\n",
       "\n",
       "    .dataframe thead th {\n",
       "        text-align: right;\n",
       "    }\n",
       "</style>\n",
       "<table border=\"1\" class=\"dataframe\">\n",
       "  <thead>\n",
       "    <tr style=\"text-align: right;\">\n",
       "      <th></th>\n",
       "      <th>reviews.title</th>\n",
       "      <th>reviews.username</th>\n",
       "    </tr>\n",
       "  </thead>\n",
       "  <tbody>\n",
       "    <tr>\n",
       "      <th>0</th>\n",
       "      <td>Kindle</td>\n",
       "      <td>Adapter</td>\n",
       "    </tr>\n",
       "    <tr>\n",
       "      <th>1</th>\n",
       "      <td>very fast</td>\n",
       "      <td>truman</td>\n",
       "    </tr>\n",
       "    <tr>\n",
       "      <th>2</th>\n",
       "      <td>Beginner tablet for our 9 year old son.</td>\n",
       "      <td>DaveZ</td>\n",
       "    </tr>\n",
       "    <tr>\n",
       "      <th>3</th>\n",
       "      <td>Good!!!</td>\n",
       "      <td>Shacks</td>\n",
       "    </tr>\n",
       "    <tr>\n",
       "      <th>4</th>\n",
       "      <td>Fantastic Tablet for kids</td>\n",
       "      <td>explore42</td>\n",
       "    </tr>\n",
       "    <tr>\n",
       "      <th>...</th>\n",
       "      <td>...</td>\n",
       "      <td>...</td>\n",
       "    </tr>\n",
       "    <tr>\n",
       "      <th>58</th>\n",
       "      <td>Present for my daughter &amp; she loves it!</td>\n",
       "      <td>Timothy</td>\n",
       "    </tr>\n",
       "    <tr>\n",
       "      <th>59</th>\n",
       "      <td>Great little device</td>\n",
       "      <td>katt</td>\n",
       "    </tr>\n",
       "    <tr>\n",
       "      <th>60</th>\n",
       "      <td>Perfect for artist reference photos!</td>\n",
       "      <td>Patman</td>\n",
       "    </tr>\n",
       "    <tr>\n",
       "      <th>61</th>\n",
       "      <td>Great tablet for what it's worth</td>\n",
       "      <td>Netiks</td>\n",
       "    </tr>\n",
       "    <tr>\n",
       "      <th>62</th>\n",
       "      <td>Great tablet</td>\n",
       "      <td>Wanoo</td>\n",
       "    </tr>\n",
       "  </tbody>\n",
       "</table>\n",
       "<p>63 rows × 2 columns</p>\n",
       "</div>"
      ],
      "text/plain": [
       "                              reviews.title reviews.username\n",
       "0                                    Kindle          Adapter\n",
       "1                                 very fast           truman\n",
       "2   Beginner tablet for our 9 year old son.            DaveZ\n",
       "3                                   Good!!!           Shacks\n",
       "4                 Fantastic Tablet for kids        explore42\n",
       "..                                      ...              ...\n",
       "58  Present for my daughter & she loves it!          Timothy\n",
       "59                      Great little device             katt\n",
       "60     Perfect for artist reference photos!           Patman\n",
       "61         Great tablet for what it's worth           Netiks\n",
       "62                             Great tablet            Wanoo\n",
       "\n",
       "[63 rows x 2 columns]"
      ]
     },
     "execution_count": 189,
     "metadata": {},
     "output_type": "execute_result"
    }
   ],
   "source": [
    "data.loc[:62,['reviews.title','reviews.username']]"
   ]
  },
  {
   "cell_type": "code",
   "execution_count": 190,
   "id": "e513f852",
   "metadata": {},
   "outputs": [
    {
     "data": {
      "text/html": [
       "<div>\n",
       "<style scoped>\n",
       "    .dataframe tbody tr th:only-of-type {\n",
       "        vertical-align: middle;\n",
       "    }\n",
       "\n",
       "    .dataframe tbody tr th {\n",
       "        vertical-align: top;\n",
       "    }\n",
       "\n",
       "    .dataframe thead th {\n",
       "        text-align: right;\n",
       "    }\n",
       "</style>\n",
       "<table border=\"1\" class=\"dataframe\">\n",
       "  <thead>\n",
       "    <tr style=\"text-align: right;\">\n",
       "      <th></th>\n",
       "      <th>id</th>\n",
       "      <th>name</th>\n",
       "      <th>asins</th>\n",
       "      <th>brand</th>\n",
       "      <th>categories</th>\n",
       "      <th>keys</th>\n",
       "      <th>manufacturer</th>\n",
       "      <th>reviews.date</th>\n",
       "      <th>reviews.dateAdded</th>\n",
       "      <th>reviews.dateSeen</th>\n",
       "      <th>...</th>\n",
       "      <th>reviews.doRecommend</th>\n",
       "      <th>reviews.id</th>\n",
       "      <th>reviews.numHelpful</th>\n",
       "      <th>reviews.rating</th>\n",
       "      <th>reviews.sourceURLs</th>\n",
       "      <th>reviews.text</th>\n",
       "      <th>reviews.title</th>\n",
       "      <th>reviews.userCity</th>\n",
       "      <th>reviews.userProvince</th>\n",
       "      <th>reviews.username</th>\n",
       "    </tr>\n",
       "  </thead>\n",
       "  <tbody>\n",
       "    <tr>\n",
       "      <th>0</th>\n",
       "      <td>AVqkIhwDv8e3D1O-lebb</td>\n",
       "      <td>All-New Fire HD 8 Tablet, 8 HD Display, Wi-Fi,...</td>\n",
       "      <td>B01AHB9CN2</td>\n",
       "      <td>Amazon</td>\n",
       "      <td>Electronics,iPad &amp; Tablets,All Tablets,Fire Ta...</td>\n",
       "      <td>841667104676,amazon/53004484,amazon/b01ahb9cn2...</td>\n",
       "      <td>Amazon</td>\n",
       "      <td>2017-01-13T00:00:00.000Z</td>\n",
       "      <td>2017-07-03T23:33:15Z</td>\n",
       "      <td>2017-06-07T09:04:00.000Z,2017-04-30T00:45:00.000Z</td>\n",
       "      <td>...</td>\n",
       "      <td>True</td>\n",
       "      <td>NaN</td>\n",
       "      <td>0.0</td>\n",
       "      <td>5.0</td>\n",
       "      <td>http://reviews.bestbuy.com/3545/5620406/review...</td>\n",
       "      <td>This product so far has not disappointed. My c...</td>\n",
       "      <td>Kindle</td>\n",
       "      <td>NaN</td>\n",
       "      <td>NaN</td>\n",
       "      <td>Adapter</td>\n",
       "    </tr>\n",
       "    <tr>\n",
       "      <th>1</th>\n",
       "      <td>AVqkIhwDv8e3D1O-lebb</td>\n",
       "      <td>All-New Fire HD 8 Tablet, 8 HD Display, Wi-Fi,...</td>\n",
       "      <td>B01AHB9CN2</td>\n",
       "      <td>Amazon</td>\n",
       "      <td>Electronics,iPad &amp; Tablets,All Tablets,Fire Ta...</td>\n",
       "      <td>841667104676,amazon/53004484,amazon/b01ahb9cn2...</td>\n",
       "      <td>Amazon</td>\n",
       "      <td>2017-01-13T00:00:00.000Z</td>\n",
       "      <td>2017-07-03T23:33:15Z</td>\n",
       "      <td>2017-06-07T09:04:00.000Z,2017-04-30T00:45:00.000Z</td>\n",
       "      <td>...</td>\n",
       "      <td>True</td>\n",
       "      <td>NaN</td>\n",
       "      <td>0.0</td>\n",
       "      <td>5.0</td>\n",
       "      <td>http://reviews.bestbuy.com/3545/5620406/review...</td>\n",
       "      <td>great for beginner or experienced person. Boug...</td>\n",
       "      <td>very fast</td>\n",
       "      <td>NaN</td>\n",
       "      <td>NaN</td>\n",
       "      <td>truman</td>\n",
       "    </tr>\n",
       "    <tr>\n",
       "      <th>2</th>\n",
       "      <td>AVqkIhwDv8e3D1O-lebb</td>\n",
       "      <td>All-New Fire HD 8 Tablet, 8 HD Display, Wi-Fi,...</td>\n",
       "      <td>B01AHB9CN2</td>\n",
       "      <td>Amazon</td>\n",
       "      <td>Electronics,iPad &amp; Tablets,All Tablets,Fire Ta...</td>\n",
       "      <td>841667104676,amazon/53004484,amazon/b01ahb9cn2...</td>\n",
       "      <td>Amazon</td>\n",
       "      <td>2017-01-13T00:00:00.000Z</td>\n",
       "      <td>2017-07-03T23:33:15Z</td>\n",
       "      <td>2017-06-07T09:04:00.000Z,2017-04-30T00:45:00.000Z</td>\n",
       "      <td>...</td>\n",
       "      <td>True</td>\n",
       "      <td>NaN</td>\n",
       "      <td>0.0</td>\n",
       "      <td>5.0</td>\n",
       "      <td>http://reviews.bestbuy.com/3545/5620406/review...</td>\n",
       "      <td>Inexpensive tablet for him to use and learn on...</td>\n",
       "      <td>Beginner tablet for our 9 year old son.</td>\n",
       "      <td>NaN</td>\n",
       "      <td>NaN</td>\n",
       "      <td>DaveZ</td>\n",
       "    </tr>\n",
       "    <tr>\n",
       "      <th>3</th>\n",
       "      <td>AVqkIhwDv8e3D1O-lebb</td>\n",
       "      <td>All-New Fire HD 8 Tablet, 8 HD Display, Wi-Fi,...</td>\n",
       "      <td>B01AHB9CN2</td>\n",
       "      <td>Amazon</td>\n",
       "      <td>Electronics,iPad &amp; Tablets,All Tablets,Fire Ta...</td>\n",
       "      <td>841667104676,amazon/53004484,amazon/b01ahb9cn2...</td>\n",
       "      <td>Amazon</td>\n",
       "      <td>2017-01-13T00:00:00.000Z</td>\n",
       "      <td>2017-07-03T23:33:15Z</td>\n",
       "      <td>2017-06-07T09:04:00.000Z,2017-04-30T00:45:00.000Z</td>\n",
       "      <td>...</td>\n",
       "      <td>True</td>\n",
       "      <td>NaN</td>\n",
       "      <td>0.0</td>\n",
       "      <td>4.0</td>\n",
       "      <td>http://reviews.bestbuy.com/3545/5620406/review...</td>\n",
       "      <td>I've had my Fire HD 8 two weeks now and I love...</td>\n",
       "      <td>Good!!!</td>\n",
       "      <td>NaN</td>\n",
       "      <td>NaN</td>\n",
       "      <td>Shacks</td>\n",
       "    </tr>\n",
       "    <tr>\n",
       "      <th>4</th>\n",
       "      <td>AVqkIhwDv8e3D1O-lebb</td>\n",
       "      <td>All-New Fire HD 8 Tablet, 8 HD Display, Wi-Fi,...</td>\n",
       "      <td>B01AHB9CN2</td>\n",
       "      <td>Amazon</td>\n",
       "      <td>Electronics,iPad &amp; Tablets,All Tablets,Fire Ta...</td>\n",
       "      <td>841667104676,amazon/53004484,amazon/b01ahb9cn2...</td>\n",
       "      <td>Amazon</td>\n",
       "      <td>2017-01-12T00:00:00.000Z</td>\n",
       "      <td>2017-07-03T23:33:15Z</td>\n",
       "      <td>2017-06-07T09:04:00.000Z,2017-04-30T00:45:00.000Z</td>\n",
       "      <td>...</td>\n",
       "      <td>True</td>\n",
       "      <td>NaN</td>\n",
       "      <td>0.0</td>\n",
       "      <td>5.0</td>\n",
       "      <td>http://reviews.bestbuy.com/3545/5620406/review...</td>\n",
       "      <td>I bought this for my grand daughter when she c...</td>\n",
       "      <td>Fantastic Tablet for kids</td>\n",
       "      <td>NaN</td>\n",
       "      <td>NaN</td>\n",
       "      <td>explore42</td>\n",
       "    </tr>\n",
       "    <tr>\n",
       "      <th>...</th>\n",
       "      <td>...</td>\n",
       "      <td>...</td>\n",
       "      <td>...</td>\n",
       "      <td>...</td>\n",
       "      <td>...</td>\n",
       "      <td>...</td>\n",
       "      <td>...</td>\n",
       "      <td>...</td>\n",
       "      <td>...</td>\n",
       "      <td>...</td>\n",
       "      <td>...</td>\n",
       "      <td>...</td>\n",
       "      <td>...</td>\n",
       "      <td>...</td>\n",
       "      <td>...</td>\n",
       "      <td>...</td>\n",
       "      <td>...</td>\n",
       "      <td>...</td>\n",
       "      <td>...</td>\n",
       "      <td>...</td>\n",
       "      <td>...</td>\n",
       "    </tr>\n",
       "    <tr>\n",
       "      <th>2809</th>\n",
       "      <td>AVqkIhwDv8e3D1O-lebb</td>\n",
       "      <td>All-New Fire HD 8 Tablet, 8 HD Display, Wi-Fi,...</td>\n",
       "      <td>B01AHB9CN2</td>\n",
       "      <td>Amazon</td>\n",
       "      <td>Electronics,iPad &amp; Tablets,All Tablets,Fire Ta...</td>\n",
       "      <td>841667104676,amazon/53004484,amazon/b01ahb9cn2...</td>\n",
       "      <td>Amazon</td>\n",
       "      <td>2017-04-29T00:00:00.000Z</td>\n",
       "      <td>2017-07-03T23:09:44Z</td>\n",
       "      <td>2017-06-07T09:03:00.000Z</td>\n",
       "      <td>...</td>\n",
       "      <td>True</td>\n",
       "      <td>NaN</td>\n",
       "      <td>0.0</td>\n",
       "      <td>5.0</td>\n",
       "      <td>http://reviews.bestbuy.com/3545/5620406/review...</td>\n",
       "      <td>I had the original Kindle and just decided to ...</td>\n",
       "      <td>Good reader</td>\n",
       "      <td>NaN</td>\n",
       "      <td>NaN</td>\n",
       "      <td>Bill</td>\n",
       "    </tr>\n",
       "    <tr>\n",
       "      <th>2810</th>\n",
       "      <td>AVqkIhwDv8e3D1O-lebb</td>\n",
       "      <td>All-New Fire HD 8 Tablet, 8 HD Display, Wi-Fi,...</td>\n",
       "      <td>B01AHB9CN2</td>\n",
       "      <td>Amazon</td>\n",
       "      <td>Electronics,iPad &amp; Tablets,All Tablets,Fire Ta...</td>\n",
       "      <td>841667104676,amazon/53004484,amazon/b01ahb9cn2...</td>\n",
       "      <td>Amazon</td>\n",
       "      <td>2017-04-29T00:00:00.000Z</td>\n",
       "      <td>2017-07-03T23:09:44Z</td>\n",
       "      <td>2017-06-07T09:03:00.000Z</td>\n",
       "      <td>...</td>\n",
       "      <td>True</td>\n",
       "      <td>NaN</td>\n",
       "      <td>0.0</td>\n",
       "      <td>5.0</td>\n",
       "      <td>http://reviews.bestbuy.com/3545/5620406/review...</td>\n",
       "      <td>My 10 year old daughter loves it. Battery grea...</td>\n",
       "      <td>Kindle fire hd 8 great for everything internet .</td>\n",
       "      <td>NaN</td>\n",
       "      <td>NaN</td>\n",
       "      <td>Panda85</td>\n",
       "    </tr>\n",
       "    <tr>\n",
       "      <th>2811</th>\n",
       "      <td>AVqkIhwDv8e3D1O-lebb</td>\n",
       "      <td>All-New Fire HD 8 Tablet, 8 HD Display, Wi-Fi,...</td>\n",
       "      <td>B01AHB9CN2</td>\n",
       "      <td>Amazon</td>\n",
       "      <td>Electronics,iPad &amp; Tablets,All Tablets,Fire Ta...</td>\n",
       "      <td>841667104676,amazon/53004484,amazon/b01ahb9cn2...</td>\n",
       "      <td>Amazon</td>\n",
       "      <td>2017-04-29T00:00:00.000Z</td>\n",
       "      <td>2017-07-03T23:09:44Z</td>\n",
       "      <td>2017-06-07T09:03:00.000Z</td>\n",
       "      <td>...</td>\n",
       "      <td>True</td>\n",
       "      <td>NaN</td>\n",
       "      <td>0.0</td>\n",
       "      <td>5.0</td>\n",
       "      <td>http://reviews.bestbuy.com/3545/5620406/review...</td>\n",
       "      <td>Several friends suggested I buy the Kindle Fir...</td>\n",
       "      <td>Space saver</td>\n",
       "      <td>NaN</td>\n",
       "      <td>NaN</td>\n",
       "      <td>Suge</td>\n",
       "    </tr>\n",
       "    <tr>\n",
       "      <th>2812</th>\n",
       "      <td>AVqkIhwDv8e3D1O-lebb</td>\n",
       "      <td>All-New Fire HD 8 Tablet, 8 HD Display, Wi-Fi,...</td>\n",
       "      <td>B01AHB9CN2</td>\n",
       "      <td>Amazon</td>\n",
       "      <td>Electronics,iPad &amp; Tablets,All Tablets,Fire Ta...</td>\n",
       "      <td>841667104676,amazon/53004484,amazon/b01ahb9cn2...</td>\n",
       "      <td>Amazon</td>\n",
       "      <td>2017-04-29T00:00:00.000Z</td>\n",
       "      <td>2017-07-03T23:09:44Z</td>\n",
       "      <td>2017-06-07T09:03:00.000Z</td>\n",
       "      <td>...</td>\n",
       "      <td>True</td>\n",
       "      <td>NaN</td>\n",
       "      <td>0.0</td>\n",
       "      <td>5.0</td>\n",
       "      <td>http://reviews.bestbuy.com/3545/5620406/review...</td>\n",
       "      <td>I had a new one but it stopped working....So I...</td>\n",
       "      <td>Amazon Fire</td>\n",
       "      <td>NaN</td>\n",
       "      <td>NaN</td>\n",
       "      <td>HShopper</td>\n",
       "    </tr>\n",
       "    <tr>\n",
       "      <th>2813</th>\n",
       "      <td>AVqkIhwDv8e3D1O-lebb</td>\n",
       "      <td>All-New Fire HD 8 Tablet, 8 HD Display, Wi-Fi,...</td>\n",
       "      <td>B01AHB9CN2</td>\n",
       "      <td>Amazon</td>\n",
       "      <td>Electronics,iPad &amp; Tablets,All Tablets,Fire Ta...</td>\n",
       "      <td>841667104676,amazon/53004484,amazon/b01ahb9cn2...</td>\n",
       "      <td>Amazon</td>\n",
       "      <td>2017-04-29T00:00:00.000Z</td>\n",
       "      <td>2017-07-03T23:09:44Z</td>\n",
       "      <td>2017-06-07T09:03:00.000Z</td>\n",
       "      <td>...</td>\n",
       "      <td>True</td>\n",
       "      <td>NaN</td>\n",
       "      <td>0.0</td>\n",
       "      <td>4.0</td>\n",
       "      <td>http://reviews.bestbuy.com/3545/5620406/review...</td>\n",
       "      <td>Loved it very good screen quality and clarity,...</td>\n",
       "      <td>Awesome Tablet</td>\n",
       "      <td>NaN</td>\n",
       "      <td>NaN</td>\n",
       "      <td>Siara90</td>\n",
       "    </tr>\n",
       "  </tbody>\n",
       "</table>\n",
       "<p>2814 rows × 21 columns</p>\n",
       "</div>"
      ],
      "text/plain": [
       "                        id                                               name  \\\n",
       "0     AVqkIhwDv8e3D1O-lebb  All-New Fire HD 8 Tablet, 8 HD Display, Wi-Fi,...   \n",
       "1     AVqkIhwDv8e3D1O-lebb  All-New Fire HD 8 Tablet, 8 HD Display, Wi-Fi,...   \n",
       "2     AVqkIhwDv8e3D1O-lebb  All-New Fire HD 8 Tablet, 8 HD Display, Wi-Fi,...   \n",
       "3     AVqkIhwDv8e3D1O-lebb  All-New Fire HD 8 Tablet, 8 HD Display, Wi-Fi,...   \n",
       "4     AVqkIhwDv8e3D1O-lebb  All-New Fire HD 8 Tablet, 8 HD Display, Wi-Fi,...   \n",
       "...                    ...                                                ...   \n",
       "2809  AVqkIhwDv8e3D1O-lebb  All-New Fire HD 8 Tablet, 8 HD Display, Wi-Fi,...   \n",
       "2810  AVqkIhwDv8e3D1O-lebb  All-New Fire HD 8 Tablet, 8 HD Display, Wi-Fi,...   \n",
       "2811  AVqkIhwDv8e3D1O-lebb  All-New Fire HD 8 Tablet, 8 HD Display, Wi-Fi,...   \n",
       "2812  AVqkIhwDv8e3D1O-lebb  All-New Fire HD 8 Tablet, 8 HD Display, Wi-Fi,...   \n",
       "2813  AVqkIhwDv8e3D1O-lebb  All-New Fire HD 8 Tablet, 8 HD Display, Wi-Fi,...   \n",
       "\n",
       "           asins   brand                                         categories  \\\n",
       "0     B01AHB9CN2  Amazon  Electronics,iPad & Tablets,All Tablets,Fire Ta...   \n",
       "1     B01AHB9CN2  Amazon  Electronics,iPad & Tablets,All Tablets,Fire Ta...   \n",
       "2     B01AHB9CN2  Amazon  Electronics,iPad & Tablets,All Tablets,Fire Ta...   \n",
       "3     B01AHB9CN2  Amazon  Electronics,iPad & Tablets,All Tablets,Fire Ta...   \n",
       "4     B01AHB9CN2  Amazon  Electronics,iPad & Tablets,All Tablets,Fire Ta...   \n",
       "...          ...     ...                                                ...   \n",
       "2809  B01AHB9CN2  Amazon  Electronics,iPad & Tablets,All Tablets,Fire Ta...   \n",
       "2810  B01AHB9CN2  Amazon  Electronics,iPad & Tablets,All Tablets,Fire Ta...   \n",
       "2811  B01AHB9CN2  Amazon  Electronics,iPad & Tablets,All Tablets,Fire Ta...   \n",
       "2812  B01AHB9CN2  Amazon  Electronics,iPad & Tablets,All Tablets,Fire Ta...   \n",
       "2813  B01AHB9CN2  Amazon  Electronics,iPad & Tablets,All Tablets,Fire Ta...   \n",
       "\n",
       "                                                   keys manufacturer  \\\n",
       "0     841667104676,amazon/53004484,amazon/b01ahb9cn2...       Amazon   \n",
       "1     841667104676,amazon/53004484,amazon/b01ahb9cn2...       Amazon   \n",
       "2     841667104676,amazon/53004484,amazon/b01ahb9cn2...       Amazon   \n",
       "3     841667104676,amazon/53004484,amazon/b01ahb9cn2...       Amazon   \n",
       "4     841667104676,amazon/53004484,amazon/b01ahb9cn2...       Amazon   \n",
       "...                                                 ...          ...   \n",
       "2809  841667104676,amazon/53004484,amazon/b01ahb9cn2...       Amazon   \n",
       "2810  841667104676,amazon/53004484,amazon/b01ahb9cn2...       Amazon   \n",
       "2811  841667104676,amazon/53004484,amazon/b01ahb9cn2...       Amazon   \n",
       "2812  841667104676,amazon/53004484,amazon/b01ahb9cn2...       Amazon   \n",
       "2813  841667104676,amazon/53004484,amazon/b01ahb9cn2...       Amazon   \n",
       "\n",
       "                  reviews.date     reviews.dateAdded  \\\n",
       "0     2017-01-13T00:00:00.000Z  2017-07-03T23:33:15Z   \n",
       "1     2017-01-13T00:00:00.000Z  2017-07-03T23:33:15Z   \n",
       "2     2017-01-13T00:00:00.000Z  2017-07-03T23:33:15Z   \n",
       "3     2017-01-13T00:00:00.000Z  2017-07-03T23:33:15Z   \n",
       "4     2017-01-12T00:00:00.000Z  2017-07-03T23:33:15Z   \n",
       "...                        ...                   ...   \n",
       "2809  2017-04-29T00:00:00.000Z  2017-07-03T23:09:44Z   \n",
       "2810  2017-04-29T00:00:00.000Z  2017-07-03T23:09:44Z   \n",
       "2811  2017-04-29T00:00:00.000Z  2017-07-03T23:09:44Z   \n",
       "2812  2017-04-29T00:00:00.000Z  2017-07-03T23:09:44Z   \n",
       "2813  2017-04-29T00:00:00.000Z  2017-07-03T23:09:44Z   \n",
       "\n",
       "                                       reviews.dateSeen  ...  \\\n",
       "0     2017-06-07T09:04:00.000Z,2017-04-30T00:45:00.000Z  ...   \n",
       "1     2017-06-07T09:04:00.000Z,2017-04-30T00:45:00.000Z  ...   \n",
       "2     2017-06-07T09:04:00.000Z,2017-04-30T00:45:00.000Z  ...   \n",
       "3     2017-06-07T09:04:00.000Z,2017-04-30T00:45:00.000Z  ...   \n",
       "4     2017-06-07T09:04:00.000Z,2017-04-30T00:45:00.000Z  ...   \n",
       "...                                                 ...  ...   \n",
       "2809                           2017-06-07T09:03:00.000Z  ...   \n",
       "2810                           2017-06-07T09:03:00.000Z  ...   \n",
       "2811                           2017-06-07T09:03:00.000Z  ...   \n",
       "2812                           2017-06-07T09:03:00.000Z  ...   \n",
       "2813                           2017-06-07T09:03:00.000Z  ...   \n",
       "\n",
       "     reviews.doRecommend reviews.id  reviews.numHelpful  reviews.rating  \\\n",
       "0                   True        NaN                 0.0             5.0   \n",
       "1                   True        NaN                 0.0             5.0   \n",
       "2                   True        NaN                 0.0             5.0   \n",
       "3                   True        NaN                 0.0             4.0   \n",
       "4                   True        NaN                 0.0             5.0   \n",
       "...                  ...        ...                 ...             ...   \n",
       "2809                True        NaN                 0.0             5.0   \n",
       "2810                True        NaN                 0.0             5.0   \n",
       "2811                True        NaN                 0.0             5.0   \n",
       "2812                True        NaN                 0.0             5.0   \n",
       "2813                True        NaN                 0.0             4.0   \n",
       "\n",
       "                                     reviews.sourceURLs  \\\n",
       "0     http://reviews.bestbuy.com/3545/5620406/review...   \n",
       "1     http://reviews.bestbuy.com/3545/5620406/review...   \n",
       "2     http://reviews.bestbuy.com/3545/5620406/review...   \n",
       "3     http://reviews.bestbuy.com/3545/5620406/review...   \n",
       "4     http://reviews.bestbuy.com/3545/5620406/review...   \n",
       "...                                                 ...   \n",
       "2809  http://reviews.bestbuy.com/3545/5620406/review...   \n",
       "2810  http://reviews.bestbuy.com/3545/5620406/review...   \n",
       "2811  http://reviews.bestbuy.com/3545/5620406/review...   \n",
       "2812  http://reviews.bestbuy.com/3545/5620406/review...   \n",
       "2813  http://reviews.bestbuy.com/3545/5620406/review...   \n",
       "\n",
       "                                           reviews.text  \\\n",
       "0     This product so far has not disappointed. My c...   \n",
       "1     great for beginner or experienced person. Boug...   \n",
       "2     Inexpensive tablet for him to use and learn on...   \n",
       "3     I've had my Fire HD 8 two weeks now and I love...   \n",
       "4     I bought this for my grand daughter when she c...   \n",
       "...                                                 ...   \n",
       "2809  I had the original Kindle and just decided to ...   \n",
       "2810  My 10 year old daughter loves it. Battery grea...   \n",
       "2811  Several friends suggested I buy the Kindle Fir...   \n",
       "2812  I had a new one but it stopped working....So I...   \n",
       "2813  Loved it very good screen quality and clarity,...   \n",
       "\n",
       "                                         reviews.title reviews.userCity  \\\n",
       "0                                               Kindle              NaN   \n",
       "1                                            very fast              NaN   \n",
       "2              Beginner tablet for our 9 year old son.              NaN   \n",
       "3                                              Good!!!              NaN   \n",
       "4                            Fantastic Tablet for kids              NaN   \n",
       "...                                                ...              ...   \n",
       "2809                                       Good reader              NaN   \n",
       "2810  Kindle fire hd 8 great for everything internet .              NaN   \n",
       "2811                                       Space saver              NaN   \n",
       "2812                                       Amazon Fire              NaN   \n",
       "2813                                    Awesome Tablet              NaN   \n",
       "\n",
       "      reviews.userProvince  reviews.username  \n",
       "0                      NaN           Adapter  \n",
       "1                      NaN            truman  \n",
       "2                      NaN             DaveZ  \n",
       "3                      NaN            Shacks  \n",
       "4                      NaN         explore42  \n",
       "...                    ...               ...  \n",
       "2809                   NaN              Bill  \n",
       "2810                   NaN           Panda85  \n",
       "2811                   NaN              Suge  \n",
       "2812                   NaN          HShopper  \n",
       "2813                   NaN           Siara90  \n",
       "\n",
       "[2814 rows x 21 columns]"
      ]
     },
     "execution_count": 190,
     "metadata": {},
     "output_type": "execute_result"
    }
   ],
   "source": [
    "data.loc[(data.id=='AVqkIhwDv8e3D1O-lebb')]"
   ]
  },
  {
   "cell_type": "markdown",
   "id": "7f8f28ed",
   "metadata": {},
   "source": [
    " \n"
   ]
  },
  {
   "cell_type": "markdown",
   "id": "5264c4b8",
   "metadata": {},
   "source": [
    "### Matplotlib"
   ]
  },
  {
   "cell_type": "code",
   "execution_count": 191,
   "id": "f57ae61a",
   "metadata": {},
   "outputs": [],
   "source": [
    "import matplotlib as mpl\n",
    "import matplotlib.pyplot as plt"
   ]
  },
  {
   "cell_type": "code",
   "execution_count": 192,
   "id": "7e488bc1",
   "metadata": {},
   "outputs": [],
   "source": [
    "plt.style.use('classic')"
   ]
  },
  {
   "cell_type": "code",
   "execution_count": 193,
   "id": "fa610e45",
   "metadata": {},
   "outputs": [
    {
     "data": {
      "image/png": "[encoded data removed]",
      "text/plain": [
       "<Figure size 640x480 with 1 Axes>"
      ]
     },
     "metadata": {},
     "output_type": "display_data"
    }
   ],
   "source": [
    "import numpy as np\n",
    "\n",
    "x = np.linspace(0, 20, 100)\n",
    "\n",
    "plt.plot(x, np.sin(x),\"-\")\n",
    "plt.plot(x, np.cos(x),\".\")\n",
    "plt.plot(x, np.sin(x+25),\"+\")\n",
    "plt.plot(x, np.sin(x-20),\"--\")\n",
    "\n",
    "plt.show()"
   ]
  },
  {
   "cell_type": "code",
   "execution_count": 194,
   "id": "27c942e6",
   "metadata": {},
   "outputs": [
    {
     "data": {
      "text/plain": [
       "[<matplotlib.lines.Line2D at 0x1b5ba3242e0>]"
      ]
     },
     "execution_count": 194,
     "metadata": {},
     "output_type": "execute_result"
    },
    {
     "data": {
      "image/png": "[encoded data removed]",
      "text/plain": [
       "<Figure size 640x480 with 3 Axes>"
      ]
     },
     "metadata": {},
     "output_type": "display_data"
    }
   ],
   "source": [
    "plt.figure()  # create a plot figure\n",
    "\n",
    "# create the first of two panels and set current axis\n",
    "plt.subplot(3, 1, 1) # (rows, columns, panel number)\n",
    "plt.plot(x, np.sin(x))\n",
    "\n",
    "# create the second panel and set current axis\n",
    "plt.subplot(3, 1, 2)\n",
    "plt.plot(x, np.cos(x));\n",
    "\n",
    "plt.subplot(3, 1, 3) # (rows, columns, panel number)\n",
    "plt.plot(x, np.sin(x**2))\n",
    "\n"
   ]
  },
  {
   "cell_type": "code",
   "execution_count": 195,
   "id": "4cb8e1db",
   "metadata": {},
   "outputs": [
    {
     "data": {
      "text/plain": [
       "[<matplotlib.lines.Line2D at 0x1b5bc4327c0>]"
      ]
     },
     "execution_count": 195,
     "metadata": {},
     "output_type": "execute_result"
    },
    {
     "data": {
      "image/png": "[encoded data removed]",
      "text/plain": [
       "<Figure size 640x480 with 3 Axes>"
      ]
     },
     "metadata": {},
     "output_type": "display_data"
    }
   ],
   "source": [
    "# First create a grid of plots\n",
    "# ax will be an array of two Axes objects\n",
    "fig, ax = plt.subplots(3)\n",
    "\n",
    "# Call plot() method on the appropriate object\n",
    "ax[0].plot(x, np.tan(x))\n",
    "ax[1].plot(x, np.cos(x))\n",
    "ax[2].plot(x, np.sin(2*x))"
   ]
  }
 ],
 "metadata": {
  "kernelspec": {
   "display_name": "Python 3",
   "language": "python",
   "name": "python3"
  },
  "language_info": {
   "codemirror_mode": {
    "name": "ipython",
    "version": 3
   },
   "file_extension": ".py",
   "mimetype": "text/x-python",
   "name": "python",
   "nbconvert_exporter": "python",
   "pygments_lexer": "ipython3",
   "version": "3.8.8"
  }
 },
 "nbformat": 4,
 "nbformat_minor": 5
}
