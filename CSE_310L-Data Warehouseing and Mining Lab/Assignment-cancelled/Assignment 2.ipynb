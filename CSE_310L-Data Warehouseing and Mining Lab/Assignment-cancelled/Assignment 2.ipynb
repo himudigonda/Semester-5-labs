{
 "cells": [
  {
   "cell_type": "markdown",
   "source": [
    "# Lab Assignemnt 2\n",
    "```\n",
    "    @aurthor: @ruhend (Mudigonda Himansh)\n",
    "    Reg No.: AP19110010169\n",
    "```"
   ],
   "metadata": {}
  },
  {
   "cell_type": "markdown",
   "source": [
    "- [x] Install Python\n",
    "- [x] Sample Program to test\n",
    "- [x] Variable and data types\n",
    "- [ ] Numbers\n",
    "- [x] Operators\n",
    "- [ ] Strings\n",
    "- [ ] List\n",
    "- [ ] Tuple\n",
    "- [ ] Dictionary\n",
    "- [ ] Conditional Statements\n",
    "- [ ] Looping\n",
    "- [ ] Functions\n",
    "- [ ] Exception Handling\n"
   ],
   "metadata": {}
  },
  {
   "cell_type": "markdown",
   "source": [
    "### 2: Test Program"
   ],
   "metadata": {}
  },
  {
   "cell_type": "code",
   "execution_count": null,
   "source": [
    "print(\"Hello World\")"
   ],
   "outputs": [],
   "metadata": {}
  },
  {
   "cell_type": "markdown",
   "source": [
    "### 3: Variables and Data Types "
   ],
   "metadata": {}
  },
  {
   "cell_type": "markdown",
   "source": [
    "\n",
    "```\n",
    "A variable may take on one or more than one value during the runtime of a program or stores a value hardcoded.\n",
    "```\n",
    "Variables are like storage boxes to store some value.\n",
    "Data types are the restrictions that are imposed on the variable.\n",
    "\n",
    "For Example:\n",
    "An orange box should and can only hold oranges.\n",
    "A grape box cannot hold apples and vice verse."
   ],
   "metadata": {}
  },
  {
   "cell_type": "code",
   "execution_count": null,
   "source": [
    "a = 5\n",
    "b = 5.6\n",
    "c = \"himansh\"\n",
    "d = {1,2,3}\n",
    "e = [1,2,3]\n",
    "f = (1,2,4)\n",
    "g = {1:\"alpha\",2:\"beta\"}"
   ],
   "outputs": [],
   "metadata": {}
  },
  {
   "cell_type": "code",
   "execution_count": null,
   "source": [
    "print(type(a))\n",
    "print(type(b))\n",
    "print(type(c))\n",
    "print(type(d))\n",
    "print(type(e))\n",
    "print(type(f))\n",
    "print(type(g))"
   ],
   "outputs": [],
   "metadata": {}
  },
  {
   "cell_type": "markdown",
   "source": [
    "### 4: Numbers"
   ],
   "metadata": {}
  },
  {
   "cell_type": "code",
   "execution_count": null,
   "source": [],
   "outputs": [],
   "metadata": {}
  },
  {
   "cell_type": "markdown",
   "source": [
    "### 5: Operators"
   ],
   "metadata": {}
  },
  {
   "cell_type": "code",
   "execution_count": null,
   "source": [
    "a, b, c, d = 3, 4, 7, 3"
   ],
   "outputs": [],
   "metadata": {}
  },
  {
   "cell_type": "code",
   "execution_count": null,
   "source": [
    "# arthmatic op\n",
    "e = a + b\n",
    "print(e)\n",
    "e = a - b\n",
    "print(e)\n",
    "e = a / b\n",
    "print(e)\n",
    "e = a * b\n",
    "print(e)\n",
    "e = a % b\n",
    "print(e)\n",
    "e = a // b\n",
    "print(e)\n",
    "e += a\n",
    "print(e)\n",
    "e -= b \n",
    "print(e)\n",
    "e *= c \n",
    "print(e)\n",
    "e /= d \n",
    "print(e)\n",
    "e %= a \n",
    "print(e)\n",
    "e = a**b \n",
    "print(e)\n",
    "e = a^b \n",
    "print(e)\n"
   ],
   "outputs": [],
   "metadata": {}
  },
  {
   "cell_type": "markdown",
   "source": [
    "### 6: Strings"
   ],
   "metadata": {}
  },
  {
   "cell_type": "code",
   "execution_count": null,
   "source": [],
   "outputs": [],
   "metadata": {}
  }
 ],
 "metadata": {
  "kernelspec": {
   "name": "python3",
   "display_name": "Python 3.8.2 64-bit"
  },
  "language_info": {
   "codemirror_mode": {
    "name": "ipython",
    "version": 3
   },
   "file_extension": ".py",
   "mimetype": "text/x-python",
   "name": "python",
   "nbconvert_exporter": "python",
   "pygments_lexer": "ipython3",
   "version": "3.8.2"
  },
  "interpreter": {
   "hash": "31f2aee4e71d21fbe5cf8b01ff0e069b9275f58929596ceb00d14d90e3e16cd6"
  }
 },
 "nbformat": 4,
 "nbformat_minor": 5
}