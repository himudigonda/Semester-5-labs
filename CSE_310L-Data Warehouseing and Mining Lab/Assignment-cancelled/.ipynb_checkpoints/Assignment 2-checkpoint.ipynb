{
 "cells": [
  {
   "cell_type": "markdown",
   "id": "1d3d3875",
   "metadata": {},
   "source": [
    "# Lab Assignemnt 2\n",
    "```\n",
    "    @aurthor: @ruhend (Mudigonda Himansh)\n",
    "    Reg No.: AP19110010169\n",
    "```"
   ]
  },
  {
   "cell_type": "markdown",
   "id": "bf0aadaa",
   "metadata": {},
   "source": [
    "- [x] Install Python\n",
    "- [x] Sample Program to test\n",
    "- [x] Variable and data types\n",
    "- [ ] Numbers\n",
    "- [ ] Operators\n",
    "- [ ] Strings\n",
    "- [ ] List\n",
    "- [ ] Tuple\n",
    "- [ ] Dictionary\n",
    "- [ ] Conditional Statements\n",
    "- [ ] Looping\n",
    "- [ ] Functions\n",
    "- [ ] Exception Handling\n"
   ]
  },
  {
   "cell_type": "markdown",
   "id": "066c5d79",
   "metadata": {},
   "source": [
    "### 2: Test Program"
   ]
  },
  {
   "cell_type": "code",
   "execution_count": 2,
   "id": "1ad2a4bd",
   "metadata": {},
   "outputs": [
    {
     "name": "stdout",
     "output_type": "stream",
     "text": [
      "Hello World\n"
     ]
    }
   ],
   "source": [
    "print(\"Hello World\")"
   ]
  },
  {
   "cell_type": "markdown",
   "id": "f75f469f",
   "metadata": {},
   "source": [
    "### 3: Variables and Data Types "
   ]
  },
  {
   "cell_type": "markdown",
   "id": "5aac922a",
   "metadata": {},
   "source": [
    "\n",
    "```\n",
    "A variable may take on one or more than one value during the runtime of a program or stores a value hardcoded.\n",
    "```\n",
    "Variables are like storage boxes to store some value.\n",
    "Data types are the restrictions that are imposed on the variable.\n",
    "\n",
    "For Example:\n",
    "An orange box should and can only hold oranges.\n",
    "A grape box cannot hold apples and vice verse."
   ]
  },
  {
   "cell_type": "code",
   "execution_count": 10,
   "id": "61941ef7",
   "metadata": {},
   "outputs": [],
   "source": [
    "a = 5\n",
    "b = 5.6\n",
    "c = \"himansh\"\n",
    "d = {1,2,3}\n",
    "e = [1,2,3]\n",
    "f = (1,2,4)\n",
    "g = {1:\"alpha\",2:\"beta\"}"
   ]
  },
  {
   "cell_type": "code",
   "execution_count": 11,
   "id": "061850d6",
   "metadata": {},
   "outputs": [
    {
     "name": "stdout",
     "output_type": "stream",
     "text": [
      "<class 'int'>\n",
      "<class 'float'>\n",
      "<class 'str'>\n",
      "<class 'set'>\n",
      "<class 'list'>\n",
      "<class 'tuple'>\n",
      "<class 'dict'>\n"
     ]
    }
   ],
   "source": [
    "print(type(a))\n",
    "print(type(b))\n",
    "print(type(c))\n",
    "print(type(d))\n",
    "print(type(e))\n",
    "print(type(f))\n",
    "print(type(g))"
   ]
  },
  {
   "cell_type": "markdown",
   "id": "c662c4a9",
   "metadata": {},
   "source": [
    "### 4: Numbers"
   ]
  },
  {
   "cell_type": "code",
   "execution_count": null,
   "id": "e1dd3d2b",
   "metadata": {},
   "outputs": [],
   "source": []
  },
  {
   "cell_type": "markdown",
   "id": "ab325aaa",
   "metadata": {},
   "source": [
    "### 5: Operators"
   ]
  },
  {
   "cell_type": "code",
   "execution_count": 19,
   "id": "06fba1d6",
   "metadata": {},
   "outputs": [],
   "source": [
    "a, b, c, d = 3, 4, 7, 3"
   ]
  },
  {
   "cell_type": "code",
   "execution_count": 20,
   "id": "57cd86db",
   "metadata": {},
   "outputs": [
    {
     "name": "stdout",
     "output_type": "stream",
     "text": [
      "7\n",
      "-1\n",
      "0.75\n",
      "12\n",
      "3\n",
      "6\n",
      "2\n",
      "14\n",
      "4.666666666666667\n",
      "1.666666666666667\n",
      "81\n",
      "7\n"
     ]
    }
   ],
   "source": [
    "# arthmatic op\n",
    "e = a + b\n",
    "print(e)\n",
    "e = a - b\n",
    "print(e)\n",
    "e = a / b\n",
    "print(e)\n",
    "e = a * b\n",
    "print(e)\n",
    "e = a % b\n",
    "print(e)\n",
    "e = a // b\n",
    "print(e)\n",
    "e += a q\n",
    "print(e)\n",
    "e -= b \n",
    "print(e)\n",
    "e *= c \n",
    "print(e)\n",
    "e /= d \n",
    "print(e)\n",
    "e %= a \n",
    "print(e)\n",
    "e = a**b \n",
    "print(e)\n",
    "e = a^b \n",
    "print(e)\n"
   ]
  },
  {
   "cell_type": "code",
   "execution_count": null,
   "id": "d69f670e",
   "metadata": {},
   "outputs": [],
   "source": []
  },
  {
   "cell_type": "code",
   "execution_count": null,
   "id": "4af453ef",
   "metadata": {},
   "outputs": [],
   "source": []
  }
 ],
 "metadata": {
  "kernelspec": {
   "display_name": "Python 3",
   "language": "python",
   "name": "python3"
  },
  "language_info": {
   "codemirror_mode": {
    "name": "ipython",
    "version": 3
   },
   "file_extension": ".py",
   "mimetype": "text/x-python",
   "name": "python",
   "nbconvert_exporter": "python",
   "pygments_lexer": "ipython3",
   "version": "3.9.6"
  }
 },
 "nbformat": 4,
 "nbformat_minor": 5
}
